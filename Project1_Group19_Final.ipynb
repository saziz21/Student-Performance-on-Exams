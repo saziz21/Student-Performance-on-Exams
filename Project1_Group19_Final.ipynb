{
 "cells": [
  {
   "cell_type": "markdown",
   "metadata": {},
   "source": [
    "Imports"
   ]
  },
  {
   "cell_type": "code",
   "execution_count": 47,
   "metadata": {},
   "outputs": [],
   "source": [
    "import pandas as pd\n",
    "import numpy as np\n",
    "\n",
    "import matplotlib.pyplot as plt\n",
    "import seaborn as sb\n",
    "from pylab import rcParams\n",
    "from sklearn import preprocessing\n",
    "import scipy\n",
    "from scipy.stats.stats import pearsonr\n",
    "from sklearn.model_selection import train_test_split\n",
    "from sklearn.neighbors import KNeighborsClassifier\n",
    "from sklearn.metrics import accuracy_score\n",
    "from sklearn.tree import DecisionTreeClassifier\n",
    "from IPython.core.interactiveshell import InteractiveShell\n",
    "InteractiveShell.ast_node_interactivity = \"all\"\n",
    "%matplotlib inline"
   ]
  },
  {
   "cell_type": "markdown",
   "metadata": {},
   "source": [
    "This cell loads the data set assigns column labels and assigns dummy values to variables."
   ]
  },
  {
   "cell_type": "code",
   "execution_count": 4,
   "metadata": {},
   "outputs": [
    {
     "name": "stdout",
     "output_type": "stream",
     "text": [
      "     gender  race_ethnicity parental_education  lunch  test_prep  math  \\\n",
      "0         0               1                  4      0          0    72   \n",
      "1         0               2                  2      0          1    69   \n",
      "2         0               1                  5      0          0    90   \n",
      "3         1               0                  3      1          0    47   \n",
      "4         1               2                  2      0          0    76   \n",
      "..      ...             ...                ...    ...        ...   ...   \n",
      "995       0               4                  5      0          1    88   \n",
      "996       1               2                  1      1          0    62   \n",
      "997       0               2                  1      1          1    59   \n",
      "998       0               3                  2      0          1    68   \n",
      "999       0               3                  2      1          0    77   \n",
      "\n",
      "     reading  writing  \n",
      "0         72       74  \n",
      "1         90       88  \n",
      "2         95       93  \n",
      "3         57       44  \n",
      "4         78       75  \n",
      "..       ...      ...  \n",
      "995       99       95  \n",
      "996       55       55  \n",
      "997       71       65  \n",
      "998       78       77  \n",
      "999       86       86  \n",
      "\n",
      "[1000 rows x 8 columns]\n"
     ]
    }
   ],
   "source": [
    "address = 'C:/Users/derri/Desktop/UH Fall 2020/COSC 3337/Group Project/Project1_Part1_Group19/StudentsPerformance.csv'\n",
    "data = pd.read_csv(address)\n",
    "data.columns = ['gender','race_ethnicity','parental_education','lunch','test_prep','math','reading','writing']\n",
    "#print(data)\n",
    "le = preprocessing.LabelEncoder()\n",
    "data['gender']=le.fit_transform(data['gender'])\n",
    "data['race_ethnicity']=le.fit_transform(data['race_ethnicity'])\n",
    "data['lunch']=le.fit_transform(data['lunch'])\n",
    "data['test_prep']=le.fit_transform(data['test_prep'])\n",
    "data.loc[data.parental_education=='some high school','parental_education']=0\n",
    "data.loc[data.parental_education=='high school','parental_education']=1\n",
    "data.loc[data.parental_education=='some college','parental_education']=2\n",
    "data.loc[data.parental_education=='associate\\'s degree','parental_education']=3\n",
    "data.loc[data.parental_education=='bachelor\\'s degree','parental_education']=4\n",
    "data.loc[data.parental_education=='master\\'s degree','parental_education']=5\n",
    "data.loc[data.lunch==0,'lunch']=3\n",
    "data.loc[data.lunch==1,'lunch']=2\n",
    "data['lunch']-=2\n",
    "data.loc[data.test_prep==0,'test_prep']=3\n",
    "data.loc[data.test_prep==1,'test_prep']=2\n",
    "data['test_prep']-=2\n",
    "print(data)\n",
    "# gender - (0=female, 1=male)\n",
    "# race_ethnicity - (5 groups but actually race/ethnicity unknown)\n",
    "# parental_education - (6 groups: 0=some high school, 1=high school, 2=some college, 3=associates, 4=bachelors, 5=masters)\n",
    "# lunch - (0=standard, 1=free/reduced)\n",
    "# test_prep - (0=none, 1=completed)\n",
    "# math - integer scores from 0-100\n",
    "# reading - integer scores from 0-100\n",
    "# writing - integer scores from 0-100"
   ]
  },
  {
   "cell_type": "markdown",
   "metadata": {},
   "source": [
    "This cell plots pie charts of each predictor to show proportions of each value."
   ]
  },
  {
   "cell_type": "code",
   "execution_count": 5,
   "metadata": {},
   "outputs": [
    {
     "data": {
      "text/plain": [
       "<Figure size 1440x432 with 0 Axes>"
      ]
     },
     "execution_count": 5,
     "metadata": {},
     "output_type": "execute_result"
    },
    {
     "data": {
      "text/plain": [
       "<matplotlib.axes._subplots.AxesSubplot at 0x1a0cf897790>"
      ]
     },
     "execution_count": 5,
     "metadata": {},
     "output_type": "execute_result"
    },
    {
     "data": {
      "text/plain": [
       "([<matplotlib.patches.Wedge at 0x1a0d0006820>,\n",
       "  <matplotlib.patches.Wedge at 0x1a0d0006fa0>],\n",
       " [Text(-1.0982417038160106, -0.06217041096298418, 'male'),\n",
       "  Text(1.0982417038160106, 0.06217041096298404, 'female')],\n",
       " [Text(-0.5990409293541875, -0.03391113325253682, '51.8%'),\n",
       "  Text(0.5990409293541875, 0.033911133252536745, '48.2%')])"
      ]
     },
     "execution_count": 5,
     "metadata": {},
     "output_type": "execute_result"
    },
    {
     "data": {
      "text/plain": [
       "Text(0.5, 1.0, 'Gender')"
      ]
     },
     "execution_count": 5,
     "metadata": {},
     "output_type": "execute_result"
    },
    {
     "data": {
      "text/plain": [
       "<matplotlib.axes._subplots.AxesSubplot at 0x1a0cf90f520>"
      ]
     },
     "execution_count": 5,
     "metadata": {},
     "output_type": "execute_result"
    },
    {
     "data": {
      "text/plain": [
       "([<matplotlib.patches.Wedge at 0x1a0d0067160>,\n",
       "  <matplotlib.patches.Wedge at 0x1a0d0067790>,\n",
       "  <matplotlib.patches.Wedge at 0x1a0d006a0a0>,\n",
       "  <matplotlib.patches.Wedge at 0x1a0d006a970>,\n",
       "  <matplotlib.patches.Wedge at 0x1a0d0075280>],\n",
       " [Text(-0.30357017606109415, 1.057281962489778, 'A'),\n",
       "  Text(-1.0067652908788918, 0.44319707702278505, 'B'),\n",
       "  Text(-0.4145580984795792, -1.018892331399641, 'C'),\n",
       "  Text(1.0904383961276194, -0.14472078029994487, 'D'),\n",
       "  Text(0.4683572225853328, 0.9953097568356061, 'E')],\n",
       " [Text(-0.16558373239696045, 0.5766992522671516, '8.9%'),\n",
       "  Text(-0.5491447041157591, 0.24174386019424637, '19.0%'),\n",
       "  Text(-0.2261225991706795, -0.5557594534907132, '31.9%'),\n",
       "  Text(0.5947845797059742, -0.07893860743633355, '26.2%'),\n",
       "  Text(0.255467575955636, 0.5428962310012396, '14.0%')])"
      ]
     },
     "execution_count": 5,
     "metadata": {},
     "output_type": "execute_result"
    },
    {
     "data": {
      "text/plain": [
       "Text(0.5, 1.0, 'Race/Ethnicity')"
      ]
     },
     "execution_count": 5,
     "metadata": {},
     "output_type": "execute_result"
    },
    {
     "data": {
      "text/plain": [
       "<matplotlib.axes._subplots.AxesSubplot at 0x1a0d002bee0>"
      ]
     },
     "execution_count": 5,
     "metadata": {},
     "output_type": "execute_result"
    },
    {
     "data": {
      "text/plain": [
       "([<matplotlib.patches.Wedge at 0x1a0d00ad3a0>,\n",
       "  <matplotlib.patches.Wedge at 0x1a0d00ad9a0>,\n",
       "  <matplotlib.patches.Wedge at 0x1a0d00bd2b0>,\n",
       "  <matplotlib.patches.Wedge at 0x1a0d00bdb80>,\n",
       "  <matplotlib.patches.Wedge at 0x1a0d00c8490>,\n",
       "  <matplotlib.patches.Wedge at 0x1a0d00c8d60>],\n",
       " [Text(-0.5864887977972317, 0.9306078067899269, 'some high school'),\n",
       "  Text(-1.0842090516731513, -0.1857168066438955, 'high school'),\n",
       "  Text(-0.08285949963670729, -1.0968747892626372, 'some college'),\n",
       "  Text(1.0687949021141825, -0.26014891353748826, 'associates'),\n",
       "  Text(0.7428660925790179, 0.8112644257554883, 'bachelors'),\n",
       "  Text(0.20272389463327073, 1.0811581857178525, 'masters')],\n",
       " [Text(-0.31990298061667183, 0.507604258249051, '17.9%'),\n",
       "  Text(-0.5913867554580825, -0.10130007635121571, '19.6%'),\n",
       "  Text(-0.04519609071093124, -0.598295339597802, '22.6%'),\n",
       "  Text(0.5829790375168267, -0.1418994073840845, '22.2%'),\n",
       "  Text(0.40519968686128244, 0.4425078685939027, '11.8%'),\n",
       "  Text(0.11057666979996585, 0.5897226467551923, '5.9%')])"
      ]
     },
     "execution_count": 5,
     "metadata": {},
     "output_type": "execute_result"
    },
    {
     "data": {
      "text/plain": [
       "Text(0.5, 1.0, 'Parental Education')"
      ]
     },
     "execution_count": 5,
     "metadata": {},
     "output_type": "execute_result"
    },
    {
     "data": {
      "text/plain": [
       "<matplotlib.axes._subplots.AxesSubplot at 0x1a0d0087f40>"
      ]
     },
     "execution_count": 5,
     "metadata": {},
     "output_type": "execute_result"
    },
    {
     "data": {
      "text/plain": [
       "([<matplotlib.patches.Wedge at 0x1a0d00ffca0>,\n",
       "  <matplotlib.patches.Wedge at 0x1a0d010a460>],\n",
       " [Text(-0.9878303623344903, -0.4839330276496014, 'standard'),\n",
       "  Text(0.9878304076435662, 0.4839329351622454, 'free/reduced')],\n",
       " [Text(-0.5388165612733583, -0.26396346962705525, '64.5%'),\n",
       "  Text(0.5388165859873997, 0.2639634191794065, '35.5%')])"
      ]
     },
     "execution_count": 5,
     "metadata": {},
     "output_type": "execute_result"
    },
    {
     "data": {
      "text/plain": [
       "Text(0.5, 1.0, 'Lunch')"
      ]
     },
     "execution_count": 5,
     "metadata": {},
     "output_type": "execute_result"
    },
    {
     "data": {
      "text/plain": [
       "<matplotlib.axes._subplots.AxesSubplot at 0x1a0d00ffd30>"
      ]
     },
     "execution_count": 5,
     "metadata": {},
     "output_type": "execute_result"
    },
    {
     "data": {
      "text/plain": [
       "([<matplotlib.patches.Wedge at 0x1a0d01435e0>,\n",
       "  <matplotlib.patches.Wedge at 0x1a0d0143c70>],\n",
       " [Text(-0.9923473261553902, -0.4746017111981876, 'none'),\n",
       "  Text(0.9923472817199666, 0.47460180410844777, 'completed')],\n",
       " [Text(-0.5412803597211219, -0.2588736606535568, '64.2%'),\n",
       "  Text(0.5412803354836181, 0.2588737113318806, '35.8%')])"
      ]
     },
     "execution_count": 5,
     "metadata": {},
     "output_type": "execute_result"
    },
    {
     "data": {
      "text/plain": [
       "Text(0.5, 1.0, 'Test Prep')"
      ]
     },
     "execution_count": 5,
     "metadata": {},
     "output_type": "execute_result"
    },
    {
     "data": {
      "image/png": "[encoded data removed]",
      "text/plain": [
       "<Figure size 1440x432 with 5 Axes>"
      ]
     },
     "metadata": {},
     "output_type": "display_data"
    }
   ],
   "source": [
    "plt.figure(figsize=(20,6));\n",
    "plt.subplot(151)\n",
    "gen,genCounts =np.unique(data.gender,return_counts=True)\n",
    "plt.pie(genCounts,labels = ['male','female'],autopct='%1.1f%%',shadow=True,startangle = 90)\n",
    "plt.title('Gender')\n",
    "plt.subplot(152)\n",
    "race,raceCounts =np.unique(data.race_ethnicity,return_counts=True)\n",
    "plt.pie(raceCounts,labels = ['A','B','C','D','E'],autopct='%1.1f%%',shadow=True,startangle = 90)\n",
    "plt.title('Race/Ethnicity')\n",
    "plt.subplot(153)\n",
    "par,parCounts =np.unique(data.parental_education,return_counts=True)\n",
    "plt.pie(parCounts,labels = ['some high school','high school','some college','associates','bachelors','masters'],autopct='%1.1f%%',shadow=True,startangle = 90)\n",
    "plt.title('Parental Education')\n",
    "plt.subplot(154)\n",
    "lun,lunCounts =np.unique(data.lunch,return_counts=True)\n",
    "plt.pie(lunCounts,labels = ['standard','free/reduced'],autopct='%1.1f%%',shadow=True,startangle = 90)\n",
    "plt.title('Lunch')\n",
    "plt.subplot(155)\n",
    "tpc,tpcCounts =np.unique(data.test_prep,return_counts=True)\n",
    "plt.pie(tpcCounts,labels = ['none','completed'],autopct='%1.1f%%',shadow=True,startangle = 90)\n",
    "plt.title('Test Prep')"
   ]
  },
  {
   "cell_type": "markdown",
   "metadata": {},
   "source": [
    "This cell calculates the average of math, reading, and writing scores and then adds the average to the data frame as a new column."
   ]
  },
  {
   "cell_type": "code",
   "execution_count": 6,
   "metadata": {},
   "outputs": [
    {
     "name": "stdout",
     "output_type": "stream",
     "text": [
      "0      72.666667\n",
      "1      82.333333\n",
      "2      92.666667\n",
      "3      49.333333\n",
      "4      76.333333\n",
      "         ...    \n",
      "995    94.000000\n",
      "996    57.333333\n",
      "997    65.000000\n",
      "998    74.333333\n",
      "999    83.000000\n",
      "Length: 1000, dtype: float64\n",
      "     gender  race_ethnicity parental_education  lunch  test_prep  math  \\\n",
      "0         0               1                  4      0          0    72   \n",
      "1         0               2                  2      0          1    69   \n",
      "2         0               1                  5      0          0    90   \n",
      "3         1               0                  3      1          0    47   \n",
      "4         1               2                  2      0          0    76   \n",
      "..      ...             ...                ...    ...        ...   ...   \n",
      "995       0               4                  5      0          1    88   \n",
      "996       1               2                  1      1          0    62   \n",
      "997       0               2                  1      1          1    59   \n",
      "998       0               3                  2      0          1    68   \n",
      "999       0               3                  2      1          0    77   \n",
      "\n",
      "     reading  writing    average  \n",
      "0         72       74  72.666667  \n",
      "1         90       88  82.333333  \n",
      "2         95       93  92.666667  \n",
      "3         57       44  49.333333  \n",
      "4         78       75  76.333333  \n",
      "..       ...      ...        ...  \n",
      "995       99       95  94.000000  \n",
      "996       55       55  57.333333  \n",
      "997       71       65  65.000000  \n",
      "998       78       77  74.333333  \n",
      "999       86       86  83.000000  \n",
      "\n",
      "[1000 rows x 9 columns]\n"
     ]
    }
   ],
   "source": [
    "average = np.mean(data.loc[:,['math','reading','writing']],axis=1)\n",
    "print(average)\n",
    "\n",
    "data['average'] = average\n",
    "print(data)"
   ]
  },
  {
   "cell_type": "markdown",
   "metadata": {},
   "source": [
    "This cell calculates and outputs the mean and standard deviation of the average test scores."
   ]
  },
  {
   "cell_type": "code",
   "execution_count": 7,
   "metadata": {},
   "outputs": [
    {
     "name": "stdout",
     "output_type": "stream",
     "text": [
      "Mean:\n",
      "67.77066666666664\n",
      "Standard deviation:\n",
      "14.25019553861943\n"
     ]
    }
   ],
   "source": [
    "meanScore = np.mean(average)\n",
    "print('Mean:')\n",
    "print(meanScore)\n",
    "stdScore = np.std(average)\n",
    "print('Standard deviation:')\n",
    "print(stdScore)"
   ]
  },
  {
   "cell_type": "markdown",
   "metadata": {},
   "source": [
    "This cell plots side-by-side boxplots of average test score separated by gender, lunch, and test_prep values."
   ]
  },
  {
   "cell_type": "code",
   "execution_count": 8,
   "metadata": {},
   "outputs": [
    {
     "data": {
      "text/plain": [
       "<Figure size 1152x432 with 0 Axes>"
      ]
     },
     "execution_count": 8,
     "metadata": {},
     "output_type": "execute_result"
    },
    {
     "data": {
      "text/plain": [
       "<matplotlib.axes._subplots.AxesSubplot at 0x1a0ca8aa2b0>"
      ]
     },
     "execution_count": 8,
     "metadata": {},
     "output_type": "execute_result"
    },
    {
     "data": {
      "text/plain": [
       "<matplotlib.axes._subplots.AxesSubplot at 0x1a0ca8aa2b0>"
      ]
     },
     "execution_count": 8,
     "metadata": {},
     "output_type": "execute_result"
    },
    {
     "data": {
      "text/plain": [
       "<matplotlib.axes._subplots.AxesSubplot at 0x1a0d0193bb0>"
      ]
     },
     "execution_count": 8,
     "metadata": {},
     "output_type": "execute_result"
    },
    {
     "data": {
      "text/plain": [
       "<matplotlib.axes._subplots.AxesSubplot at 0x1a0d0193bb0>"
      ]
     },
     "execution_count": 8,
     "metadata": {},
     "output_type": "execute_result"
    },
    {
     "data": {
      "text/plain": [
       "<matplotlib.axes._subplots.AxesSubplot at 0x1a0d01df940>"
      ]
     },
     "execution_count": 8,
     "metadata": {},
     "output_type": "execute_result"
    },
    {
     "data": {
      "text/plain": [
       "<matplotlib.axes._subplots.AxesSubplot at 0x1a0d01df940>"
      ]
     },
     "execution_count": 8,
     "metadata": {},
     "output_type": "execute_result"
    },
    {
     "data": {
      "text/plain": [
       "<matplotlib.axes._subplots.AxesSubplot at 0x1a0d0238c70>"
      ]
     },
     "execution_count": 8,
     "metadata": {},
     "output_type": "execute_result"
    },
    {
     "data": {
      "text/plain": [
       "<matplotlib.axes._subplots.AxesSubplot at 0x1a0d0238c70>"
      ]
     },
     "execution_count": 8,
     "metadata": {},
     "output_type": "execute_result"
    },
    {
     "data": {
      "image/png": "[encoded data removed]",
      "text/plain": [
       "<Figure size 1152x432 with 4 Axes>"
      ]
     },
     "metadata": {},
     "output_type": "display_data"
    }
   ],
   "source": [
    "sb.set_style('whitegrid')\n",
    "plt.figure(figsize=(16,6));\n",
    "plt.subplot(141);\n",
    "sb.boxplot(y = 'average',data=data)\n",
    "plt.subplot(142);\n",
    "sb.boxplot(x='gender',y = 'average',data=data)\n",
    "plt.subplot(143);\n",
    "sb.boxplot(x='lunch',y = 'average',data=data)\n",
    "plt.subplot(144);\n",
    "sb.boxplot(x='test_prep',y = 'average',data=data)"
   ]
  },
  {
   "cell_type": "markdown",
   "metadata": {},
   "source": [
    "This cell plots boxplots for average test score separated by race/ethnicity and parental level of education."
   ]
  },
  {
   "cell_type": "code",
   "execution_count": 9,
   "metadata": {},
   "outputs": [
    {
     "data": {
      "text/plain": [
       "<Figure size 864x288 with 0 Axes>"
      ]
     },
     "execution_count": 9,
     "metadata": {},
     "output_type": "execute_result"
    },
    {
     "data": {
      "text/plain": [
       "<matplotlib.axes._subplots.AxesSubplot at 0x1a0d02e6430>"
      ]
     },
     "execution_count": 9,
     "metadata": {},
     "output_type": "execute_result"
    },
    {
     "data": {
      "text/plain": [
       "<matplotlib.axes._subplots.AxesSubplot at 0x1a0d02e6430>"
      ]
     },
     "execution_count": 9,
     "metadata": {},
     "output_type": "execute_result"
    },
    {
     "data": {
      "text/plain": [
       "<matplotlib.axes._subplots.AxesSubplot at 0x1a0d0323c40>"
      ]
     },
     "execution_count": 9,
     "metadata": {},
     "output_type": "execute_result"
    },
    {
     "data": {
      "text/plain": [
       "<matplotlib.axes._subplots.AxesSubplot at 0x1a0d0323c40>"
      ]
     },
     "execution_count": 9,
     "metadata": {},
     "output_type": "execute_result"
    },
    {
     "data": {
      "image/png": "[encoded data removed]",
      "text/plain": [
       "<Figure size 864x288 with 2 Axes>"
      ]
     },
     "metadata": {},
     "output_type": "display_data"
    }
   ],
   "source": [
    "plt.figure(figsize=(12,4));\n",
    "plt.subplot(121);\n",
    "sb.boxplot(x='race_ethnicity',y = 'average',data=data)\n",
    "plt.subplot(122);\n",
    "sb.boxplot(x='parental_education',y = 'average',data=data)"
   ]
  },
  {
   "cell_type": "markdown",
   "metadata": {},
   "source": [
    "This cell plots histograms of test scores, both individual scores and average score."
   ]
  },
  {
   "cell_type": "code",
   "execution_count": 10,
   "metadata": {},
   "outputs": [
    {
     "data": {
      "text/plain": [
       "<Figure size 1152x432 with 0 Axes>"
      ]
     },
     "execution_count": 10,
     "metadata": {},
     "output_type": "execute_result"
    },
    {
     "data": {
      "text/plain": [
       "<matplotlib.axes._subplots.AxesSubplot at 0x1a0d04a77f0>"
      ]
     },
     "execution_count": 10,
     "metadata": {},
     "output_type": "execute_result"
    },
    {
     "data": {
      "text/plain": [
       "Text(0.5, 1.0, 'Math')"
      ]
     },
     "execution_count": 10,
     "metadata": {},
     "output_type": "execute_result"
    },
    {
     "data": {
      "text/plain": [
       "(array([  2.,   2.,  10.,  26.,  95., 188., 268., 216., 135.,  58.]),\n",
       " array([  0.,  10.,  20.,  30.,  40.,  50.,  60.,  70.,  80.,  90., 100.]),\n",
       " <a list of 10 Patch objects>)"
      ]
     },
     "execution_count": 10,
     "metadata": {},
     "output_type": "execute_result"
    },
    {
     "data": {
      "text/plain": [
       "<matplotlib.axes._subplots.AxesSubplot at 0x1a0d04d5ee0>"
      ]
     },
     "execution_count": 10,
     "metadata": {},
     "output_type": "execute_result"
    },
    {
     "data": {
      "text/plain": [
       "Text(0.5, 1.0, 'Reading')"
      ]
     },
     "execution_count": 10,
     "metadata": {},
     "output_type": "execute_result"
    },
    {
     "data": {
      "text/plain": [
       "(array([  4.,   7.,  22.,  64., 140., 182., 237., 168., 120.,  56.]),\n",
       " array([ 17. ,  25.3,  33.6,  41.9,  50.2,  58.5,  66.8,  75.1,  83.4,\n",
       "         91.7, 100. ]),\n",
       " <a list of 10 Patch objects>)"
      ]
     },
     "execution_count": 10,
     "metadata": {},
     "output_type": "execute_result"
    },
    {
     "data": {
      "text/plain": [
       "<matplotlib.axes._subplots.AxesSubplot at 0x1a0d0523f70>"
      ]
     },
     "execution_count": 10,
     "metadata": {},
     "output_type": "execute_result"
    },
    {
     "data": {
      "text/plain": [
       "Text(0.5, 1.0, 'Writing')"
      ]
     },
     "execution_count": 10,
     "metadata": {},
     "output_type": "execute_result"
    },
    {
     "data": {
      "text/plain": [
       "(array([  2.,   6.,  14.,  55., 126., 161., 223., 225., 120.,  68.]),\n",
       " array([ 10.,  19.,  28.,  37.,  46.,  55.,  64.,  73.,  82.,  91., 100.]),\n",
       " <a list of 10 Patch objects>)"
      ]
     },
     "execution_count": 10,
     "metadata": {},
     "output_type": "execute_result"
    },
    {
     "data": {
      "text/plain": [
       "<matplotlib.axes._subplots.AxesSubplot at 0x1a0d0577190>"
      ]
     },
     "execution_count": 10,
     "metadata": {},
     "output_type": "execute_result"
    },
    {
     "data": {
      "text/plain": [
       "Text(0.5, 1.0, 'Average')"
      ]
     },
     "execution_count": 10,
     "metadata": {},
     "output_type": "execute_result"
    },
    {
     "data": {
      "text/plain": [
       "(array([  1.,   5.,  12.,  40., 124., 178., 262., 210., 122.,  46.]),\n",
       " array([  9. ,  18.1,  27.2,  36.3,  45.4,  54.5,  63.6,  72.7,  81.8,\n",
       "         90.9, 100. ]),\n",
       " <a list of 10 Patch objects>)"
      ]
     },
     "execution_count": 10,
     "metadata": {},
     "output_type": "execute_result"
    },
    {
     "data": {
      "image/png": "[encoded data removed]",
      "text/plain": [
       "<Figure size 1152x432 with 4 Axes>"
      ]
     },
     "metadata": {},
     "output_type": "display_data"
    }
   ],
   "source": [
    "plt.figure(figsize=(16,6));\n",
    "plt.subplot(141)\n",
    "plt.title('Math');\n",
    "plt.hist(data['math'])\n",
    "plt.subplot(142)\n",
    "plt.title('Reading');\n",
    "plt.hist(data['reading'])\n",
    "plt.subplot(143)\n",
    "plt.title('Writing');\n",
    "plt.hist(data['writing'])\n",
    "plt.subplot(144)\n",
    "plt.title('Average');\n",
    "plt.hist(data['average'])"
   ]
  },
  {
   "cell_type": "markdown",
   "metadata": {},
   "source": [
    "Making a class variable that has one of 5 possible letter grades depending on the student's average test score."
   ]
  },
  {
   "cell_type": "code",
   "execution_count": 60,
   "metadata": {},
   "outputs": [
    {
     "data": {
      "text/html": [
       "<div>\n",
       "<style scoped>\n",
       "    .dataframe tbody tr th:only-of-type {\n",
       "        vertical-align: middle;\n",
       "    }\n",
       "\n",
       "    .dataframe tbody tr th {\n",
       "        vertical-align: top;\n",
       "    }\n",
       "\n",
       "    .dataframe thead th {\n",
       "        text-align: right;\n",
       "    }\n",
       "</style>\n",
       "<table border=\"1\" class=\"dataframe\">\n",
       "  <thead>\n",
       "    <tr style=\"text-align: right;\">\n",
       "      <th></th>\n",
       "      <th>gender</th>\n",
       "      <th>race_ethnicity</th>\n",
       "      <th>parental_education</th>\n",
       "      <th>lunch</th>\n",
       "      <th>test_prep</th>\n",
       "      <th>math</th>\n",
       "      <th>reading</th>\n",
       "      <th>writing</th>\n",
       "      <th>average</th>\n",
       "      <th>letter</th>\n",
       "      <th>passOrFail</th>\n",
       "    </tr>\n",
       "  </thead>\n",
       "  <tbody>\n",
       "    <tr>\n",
       "      <th>0</th>\n",
       "      <td>0</td>\n",
       "      <td>1</td>\n",
       "      <td>4</td>\n",
       "      <td>0</td>\n",
       "      <td>0</td>\n",
       "      <td>72</td>\n",
       "      <td>72</td>\n",
       "      <td>74</td>\n",
       "      <td>72.666667</td>\n",
       "      <td>C</td>\n",
       "      <td>pass</td>\n",
       "    </tr>\n",
       "    <tr>\n",
       "      <th>1</th>\n",
       "      <td>0</td>\n",
       "      <td>2</td>\n",
       "      <td>2</td>\n",
       "      <td>0</td>\n",
       "      <td>1</td>\n",
       "      <td>69</td>\n",
       "      <td>90</td>\n",
       "      <td>88</td>\n",
       "      <td>82.333333</td>\n",
       "      <td>B</td>\n",
       "      <td>pass</td>\n",
       "    </tr>\n",
       "    <tr>\n",
       "      <th>2</th>\n",
       "      <td>0</td>\n",
       "      <td>1</td>\n",
       "      <td>5</td>\n",
       "      <td>0</td>\n",
       "      <td>0</td>\n",
       "      <td>90</td>\n",
       "      <td>95</td>\n",
       "      <td>93</td>\n",
       "      <td>92.666667</td>\n",
       "      <td>A</td>\n",
       "      <td>pass</td>\n",
       "    </tr>\n",
       "    <tr>\n",
       "      <th>3</th>\n",
       "      <td>1</td>\n",
       "      <td>0</td>\n",
       "      <td>3</td>\n",
       "      <td>1</td>\n",
       "      <td>0</td>\n",
       "      <td>47</td>\n",
       "      <td>57</td>\n",
       "      <td>44</td>\n",
       "      <td>49.333333</td>\n",
       "      <td>F</td>\n",
       "      <td>fail</td>\n",
       "    </tr>\n",
       "    <tr>\n",
       "      <th>4</th>\n",
       "      <td>1</td>\n",
       "      <td>2</td>\n",
       "      <td>2</td>\n",
       "      <td>0</td>\n",
       "      <td>0</td>\n",
       "      <td>76</td>\n",
       "      <td>78</td>\n",
       "      <td>75</td>\n",
       "      <td>76.333333</td>\n",
       "      <td>C</td>\n",
       "      <td>pass</td>\n",
       "    </tr>\n",
       "    <tr>\n",
       "      <th>...</th>\n",
       "      <td>...</td>\n",
       "      <td>...</td>\n",
       "      <td>...</td>\n",
       "      <td>...</td>\n",
       "      <td>...</td>\n",
       "      <td>...</td>\n",
       "      <td>...</td>\n",
       "      <td>...</td>\n",
       "      <td>...</td>\n",
       "      <td>...</td>\n",
       "      <td>...</td>\n",
       "    </tr>\n",
       "    <tr>\n",
       "      <th>995</th>\n",
       "      <td>0</td>\n",
       "      <td>4</td>\n",
       "      <td>5</td>\n",
       "      <td>0</td>\n",
       "      <td>1</td>\n",
       "      <td>88</td>\n",
       "      <td>99</td>\n",
       "      <td>95</td>\n",
       "      <td>94.000000</td>\n",
       "      <td>A</td>\n",
       "      <td>pass</td>\n",
       "    </tr>\n",
       "    <tr>\n",
       "      <th>996</th>\n",
       "      <td>1</td>\n",
       "      <td>2</td>\n",
       "      <td>1</td>\n",
       "      <td>1</td>\n",
       "      <td>0</td>\n",
       "      <td>62</td>\n",
       "      <td>55</td>\n",
       "      <td>55</td>\n",
       "      <td>57.333333</td>\n",
       "      <td>F</td>\n",
       "      <td>fail</td>\n",
       "    </tr>\n",
       "    <tr>\n",
       "      <th>997</th>\n",
       "      <td>0</td>\n",
       "      <td>2</td>\n",
       "      <td>1</td>\n",
       "      <td>1</td>\n",
       "      <td>1</td>\n",
       "      <td>59</td>\n",
       "      <td>71</td>\n",
       "      <td>65</td>\n",
       "      <td>65.000000</td>\n",
       "      <td>D</td>\n",
       "      <td>pass</td>\n",
       "    </tr>\n",
       "    <tr>\n",
       "      <th>998</th>\n",
       "      <td>0</td>\n",
       "      <td>3</td>\n",
       "      <td>2</td>\n",
       "      <td>0</td>\n",
       "      <td>1</td>\n",
       "      <td>68</td>\n",
       "      <td>78</td>\n",
       "      <td>77</td>\n",
       "      <td>74.333333</td>\n",
       "      <td>C</td>\n",
       "      <td>pass</td>\n",
       "    </tr>\n",
       "    <tr>\n",
       "      <th>999</th>\n",
       "      <td>0</td>\n",
       "      <td>3</td>\n",
       "      <td>2</td>\n",
       "      <td>1</td>\n",
       "      <td>0</td>\n",
       "      <td>77</td>\n",
       "      <td>86</td>\n",
       "      <td>86</td>\n",
       "      <td>83.000000</td>\n",
       "      <td>B</td>\n",
       "      <td>pass</td>\n",
       "    </tr>\n",
       "  </tbody>\n",
       "</table>\n",
       "<p>1000 rows × 11 columns</p>\n",
       "</div>"
      ],
      "text/plain": [
       "     gender  race_ethnicity parental_education  lunch  test_prep  math  \\\n",
       "0         0               1                  4      0          0    72   \n",
       "1         0               2                  2      0          1    69   \n",
       "2         0               1                  5      0          0    90   \n",
       "3         1               0                  3      1          0    47   \n",
       "4         1               2                  2      0          0    76   \n",
       "..      ...             ...                ...    ...        ...   ...   \n",
       "995       0               4                  5      0          1    88   \n",
       "996       1               2                  1      1          0    62   \n",
       "997       0               2                  1      1          1    59   \n",
       "998       0               3                  2      0          1    68   \n",
       "999       0               3                  2      1          0    77   \n",
       "\n",
       "     reading  writing    average letter passOrFail  \n",
       "0         72       74  72.666667      C       pass  \n",
       "1         90       88  82.333333      B       pass  \n",
       "2         95       93  92.666667      A       pass  \n",
       "3         57       44  49.333333      F       fail  \n",
       "4         78       75  76.333333      C       pass  \n",
       "..       ...      ...        ...    ...        ...  \n",
       "995       99       95  94.000000      A       pass  \n",
       "996       55       55  57.333333      F       fail  \n",
       "997       71       65  65.000000      D       pass  \n",
       "998       78       77  74.333333      C       pass  \n",
       "999       86       86  83.000000      B       pass  \n",
       "\n",
       "[1000 rows x 11 columns]"
      ]
     },
     "execution_count": 60,
     "metadata": {},
     "output_type": "execute_result"
    }
   ],
   "source": [
    "data['letter'] = data['average']\n",
    "data.loc[(data.average >= 0),'letter']='F'\n",
    "data.loc[(data.average >= 60),'letter']='D'\n",
    "data.loc[(data.average >= 70),'letter']='C'\n",
    "data.loc[(data.average >= 80),'letter']='B'\n",
    "data.loc[(data.average >= 90),'letter']='A'\n",
    "data"
   ]
  },
  {
   "cell_type": "markdown",
   "metadata": {},
   "source": [
    "Splitting the data set into train and test sets, with 30% being test and 70% training, with the values being the first five columns (gender, race, parental education, lunch, and test_prep) and the class being the letter grade for the student's average test score.\n",
    "\n",
    "Then running KNN for k from 1 to 15 to see what the optimal k values are using the accuracy score."
   ]
  },
  {
   "cell_type": "code",
   "execution_count": 43,
   "metadata": {},
   "outputs": [
    {
     "data": {
      "text/plain": [
       "KNeighborsClassifier(n_neighbors=1)"
      ]
     },
     "execution_count": 43,
     "metadata": {},
     "output_type": "execute_result"
    },
    {
     "name": "stdout",
     "output_type": "stream",
     "text": [
      "Accuracy for k = 1 on the training subset is 0.4757142857142857\n",
      "Accuracy for k = 1 on the test set is 0.2733333333333333\n"
     ]
    },
    {
     "data": {
      "text/plain": [
       "KNeighborsClassifier(n_neighbors=2)"
      ]
     },
     "execution_count": 43,
     "metadata": {},
     "output_type": "execute_result"
    },
    {
     "name": "stdout",
     "output_type": "stream",
     "text": [
      "Accuracy for k = 2 on the training subset is 0.43\n",
      "Accuracy for k = 2 on the test set is 0.25666666666666665\n"
     ]
    },
    {
     "data": {
      "text/plain": [
       "KNeighborsClassifier(n_neighbors=3)"
      ]
     },
     "execution_count": 43,
     "metadata": {},
     "output_type": "execute_result"
    },
    {
     "name": "stdout",
     "output_type": "stream",
     "text": [
      "Accuracy for k = 3 on the training subset is 0.4471428571428571\n",
      "Accuracy for k = 3 on the test set is 0.27666666666666667\n"
     ]
    },
    {
     "data": {
      "text/plain": [
       "KNeighborsClassifier(n_neighbors=4)"
      ]
     },
     "execution_count": 43,
     "metadata": {},
     "output_type": "execute_result"
    },
    {
     "name": "stdout",
     "output_type": "stream",
     "text": [
      "Accuracy for k = 4 on the training subset is 0.45285714285714285\n",
      "Accuracy for k = 4 on the test set is 0.28\n"
     ]
    },
    {
     "data": {
      "text/plain": [
       "KNeighborsClassifier()"
      ]
     },
     "execution_count": 43,
     "metadata": {},
     "output_type": "execute_result"
    },
    {
     "name": "stdout",
     "output_type": "stream",
     "text": [
      "Accuracy for k = 5 on the training subset is 0.45\n",
      "Accuracy for k = 5 on the test set is 0.24333333333333335\n"
     ]
    },
    {
     "data": {
      "text/plain": [
       "KNeighborsClassifier(n_neighbors=6)"
      ]
     },
     "execution_count": 43,
     "metadata": {},
     "output_type": "execute_result"
    },
    {
     "name": "stdout",
     "output_type": "stream",
     "text": [
      "Accuracy for k = 6 on the training subset is 0.4657142857142857\n",
      "Accuracy for k = 6 on the test set is 0.28\n"
     ]
    },
    {
     "data": {
      "text/plain": [
       "KNeighborsClassifier(n_neighbors=7)"
      ]
     },
     "execution_count": 43,
     "metadata": {},
     "output_type": "execute_result"
    },
    {
     "name": "stdout",
     "output_type": "stream",
     "text": [
      "Accuracy for k = 7 on the training subset is 0.4614285714285714\n",
      "Accuracy for k = 7 on the test set is 0.26\n"
     ]
    },
    {
     "data": {
      "text/plain": [
       "KNeighborsClassifier(n_neighbors=8)"
      ]
     },
     "execution_count": 43,
     "metadata": {},
     "output_type": "execute_result"
    },
    {
     "name": "stdout",
     "output_type": "stream",
     "text": [
      "Accuracy for k = 8 on the training subset is 0.4642857142857143\n",
      "Accuracy for k = 8 on the test set is 0.2833333333333333\n"
     ]
    },
    {
     "data": {
      "text/plain": [
       "KNeighborsClassifier(n_neighbors=9)"
      ]
     },
     "execution_count": 43,
     "metadata": {},
     "output_type": "execute_result"
    },
    {
     "name": "stdout",
     "output_type": "stream",
     "text": [
      "Accuracy for k = 9 on the training subset is 0.4514285714285714\n",
      "Accuracy for k = 9 on the test set is 0.2833333333333333\n"
     ]
    },
    {
     "data": {
      "text/plain": [
       "KNeighborsClassifier(n_neighbors=10)"
      ]
     },
     "execution_count": 43,
     "metadata": {},
     "output_type": "execute_result"
    },
    {
     "name": "stdout",
     "output_type": "stream",
     "text": [
      "Accuracy for k = 10 on the training subset is 0.4471428571428571\n",
      "Accuracy for k = 10 on the test set is 0.29333333333333333\n"
     ]
    },
    {
     "data": {
      "text/plain": [
       "KNeighborsClassifier(n_neighbors=11)"
      ]
     },
     "execution_count": 43,
     "metadata": {},
     "output_type": "execute_result"
    },
    {
     "name": "stdout",
     "output_type": "stream",
     "text": [
      "Accuracy for k = 11 on the training subset is 0.44857142857142857\n",
      "Accuracy for k = 11 on the test set is 0.29333333333333333\n"
     ]
    },
    {
     "data": {
      "text/plain": [
       "KNeighborsClassifier(n_neighbors=12)"
      ]
     },
     "execution_count": 43,
     "metadata": {},
     "output_type": "execute_result"
    },
    {
     "name": "stdout",
     "output_type": "stream",
     "text": [
      "Accuracy for k = 12 on the training subset is 0.4357142857142857\n",
      "Accuracy for k = 12 on the test set is 0.30666666666666664\n"
     ]
    },
    {
     "data": {
      "text/plain": [
       "KNeighborsClassifier(n_neighbors=13)"
      ]
     },
     "execution_count": 43,
     "metadata": {},
     "output_type": "execute_result"
    },
    {
     "name": "stdout",
     "output_type": "stream",
     "text": [
      "Accuracy for k = 13 on the training subset is 0.4342857142857143\n",
      "Accuracy for k = 13 on the test set is 0.3233333333333333\n"
     ]
    },
    {
     "data": {
      "text/plain": [
       "KNeighborsClassifier(n_neighbors=14)"
      ]
     },
     "execution_count": 43,
     "metadata": {},
     "output_type": "execute_result"
    },
    {
     "name": "stdout",
     "output_type": "stream",
     "text": [
      "Accuracy for k = 14 on the training subset is 0.43142857142857144\n",
      "Accuracy for k = 14 on the test set is 0.31333333333333335\n"
     ]
    }
   ],
   "source": [
    "x_train, x_test, y_train, y_test = train_test_split(data.iloc[:, 0:5], data['letter'], \n",
    "                                                          test_size=0.3, train_size=0.7, stratify=data['letter'])\n",
    "prediction_training = [0] * 15\n",
    "prediction_test = [0] * 15\n",
    "for k in range(1, 15):\n",
    "    knn = KNeighborsClassifier(n_neighbors=k)\n",
    "    knn.fit(x_train, y_train)\n",
    "    prediction_training[k] = knn.predict(x_train)\n",
    "    print(\"Accuracy for k = \" + str(k) + \" on the training subset is \" + str(accuracy_score(y_train, prediction_training[k])))\n",
    "    prediction_test[k] = knn.predict(x_test)\n",
    "    print(\"Accuracy for k = \" + str(k) + \" on the test set is \" + str(accuracy_score(y_test, prediction_test[k])))"
   ]
  },
  {
   "cell_type": "markdown",
   "metadata": {},
   "source": [
    "Running decision tree classifier on this dataset against the letter grade for each student's average test score, reporting the accuracy on the training and test sets."
   ]
  },
  {
   "cell_type": "code",
   "execution_count": 50,
   "metadata": {},
   "outputs": [
    {
     "data": {
      "text/plain": [
       "DecisionTreeClassifier()"
      ]
     },
     "execution_count": 50,
     "metadata": {},
     "output_type": "execute_result"
    },
    {
     "name": "stdout",
     "output_type": "stream",
     "text": [
      "Accuracy of the decision tree model on the test set: 0.5414285714285715\n",
      "Accuracy of the decision tree model on the test set: 0.26\n"
     ]
    }
   ],
   "source": [
    "tree = DecisionTreeClassifier()\n",
    "tree.fit(x_train, y_train)\n",
    "tree_predictions_train = tree.predict(x_train)\n",
    "print(\"Accuracy of the decision tree model on the test set: \" + str(accuracy_score(y_train, tree_predictions_train)))\n",
    "tree_predictions_test = tree.predict(x_test)\n",
    "print(\"Accuracy of the decision tree model on the test set: \" + str(accuracy_score(y_test, tree_predictions_test)))"
   ]
  },
  {
   "cell_type": "markdown",
   "metadata": {},
   "source": [
    "Creating another class variable based on the student's average test grade, but only splitting into passing or failing rather than letter grades."
   ]
  },
  {
   "cell_type": "code",
   "execution_count": 52,
   "metadata": {},
   "outputs": [
    {
     "data": {
      "text/html": [
       "<div>\n",
       "<style scoped>\n",
       "    .dataframe tbody tr th:only-of-type {\n",
       "        vertical-align: middle;\n",
       "    }\n",
       "\n",
       "    .dataframe tbody tr th {\n",
       "        vertical-align: top;\n",
       "    }\n",
       "\n",
       "    .dataframe thead th {\n",
       "        text-align: right;\n",
       "    }\n",
       "</style>\n",
       "<table border=\"1\" class=\"dataframe\">\n",
       "  <thead>\n",
       "    <tr style=\"text-align: right;\">\n",
       "      <th></th>\n",
       "      <th>gender</th>\n",
       "      <th>race_ethnicity</th>\n",
       "      <th>parental_education</th>\n",
       "      <th>lunch</th>\n",
       "      <th>test_prep</th>\n",
       "      <th>math</th>\n",
       "      <th>reading</th>\n",
       "      <th>writing</th>\n",
       "      <th>average</th>\n",
       "      <th>letter</th>\n",
       "      <th>passOrFail</th>\n",
       "    </tr>\n",
       "  </thead>\n",
       "  <tbody>\n",
       "    <tr>\n",
       "      <th>0</th>\n",
       "      <td>0</td>\n",
       "      <td>1</td>\n",
       "      <td>4</td>\n",
       "      <td>0</td>\n",
       "      <td>0</td>\n",
       "      <td>72</td>\n",
       "      <td>72</td>\n",
       "      <td>74</td>\n",
       "      <td>72.666667</td>\n",
       "      <td>C</td>\n",
       "      <td>pass</td>\n",
       "    </tr>\n",
       "    <tr>\n",
       "      <th>1</th>\n",
       "      <td>0</td>\n",
       "      <td>2</td>\n",
       "      <td>2</td>\n",
       "      <td>0</td>\n",
       "      <td>1</td>\n",
       "      <td>69</td>\n",
       "      <td>90</td>\n",
       "      <td>88</td>\n",
       "      <td>82.333333</td>\n",
       "      <td>B</td>\n",
       "      <td>pass</td>\n",
       "    </tr>\n",
       "    <tr>\n",
       "      <th>2</th>\n",
       "      <td>0</td>\n",
       "      <td>1</td>\n",
       "      <td>5</td>\n",
       "      <td>0</td>\n",
       "      <td>0</td>\n",
       "      <td>90</td>\n",
       "      <td>95</td>\n",
       "      <td>93</td>\n",
       "      <td>92.666667</td>\n",
       "      <td>A</td>\n",
       "      <td>pass</td>\n",
       "    </tr>\n",
       "    <tr>\n",
       "      <th>3</th>\n",
       "      <td>1</td>\n",
       "      <td>0</td>\n",
       "      <td>3</td>\n",
       "      <td>1</td>\n",
       "      <td>0</td>\n",
       "      <td>47</td>\n",
       "      <td>57</td>\n",
       "      <td>44</td>\n",
       "      <td>49.333333</td>\n",
       "      <td>F</td>\n",
       "      <td>fail</td>\n",
       "    </tr>\n",
       "    <tr>\n",
       "      <th>4</th>\n",
       "      <td>1</td>\n",
       "      <td>2</td>\n",
       "      <td>2</td>\n",
       "      <td>0</td>\n",
       "      <td>0</td>\n",
       "      <td>76</td>\n",
       "      <td>78</td>\n",
       "      <td>75</td>\n",
       "      <td>76.333333</td>\n",
       "      <td>C</td>\n",
       "      <td>pass</td>\n",
       "    </tr>\n",
       "    <tr>\n",
       "      <th>...</th>\n",
       "      <td>...</td>\n",
       "      <td>...</td>\n",
       "      <td>...</td>\n",
       "      <td>...</td>\n",
       "      <td>...</td>\n",
       "      <td>...</td>\n",
       "      <td>...</td>\n",
       "      <td>...</td>\n",
       "      <td>...</td>\n",
       "      <td>...</td>\n",
       "      <td>...</td>\n",
       "    </tr>\n",
       "    <tr>\n",
       "      <th>995</th>\n",
       "      <td>0</td>\n",
       "      <td>4</td>\n",
       "      <td>5</td>\n",
       "      <td>0</td>\n",
       "      <td>1</td>\n",
       "      <td>88</td>\n",
       "      <td>99</td>\n",
       "      <td>95</td>\n",
       "      <td>94.000000</td>\n",
       "      <td>A</td>\n",
       "      <td>pass</td>\n",
       "    </tr>\n",
       "    <tr>\n",
       "      <th>996</th>\n",
       "      <td>1</td>\n",
       "      <td>2</td>\n",
       "      <td>1</td>\n",
       "      <td>1</td>\n",
       "      <td>0</td>\n",
       "      <td>62</td>\n",
       "      <td>55</td>\n",
       "      <td>55</td>\n",
       "      <td>57.333333</td>\n",
       "      <td>F</td>\n",
       "      <td>fail</td>\n",
       "    </tr>\n",
       "    <tr>\n",
       "      <th>997</th>\n",
       "      <td>0</td>\n",
       "      <td>2</td>\n",
       "      <td>1</td>\n",
       "      <td>1</td>\n",
       "      <td>1</td>\n",
       "      <td>59</td>\n",
       "      <td>71</td>\n",
       "      <td>65</td>\n",
       "      <td>65.000000</td>\n",
       "      <td>D</td>\n",
       "      <td>pass</td>\n",
       "    </tr>\n",
       "    <tr>\n",
       "      <th>998</th>\n",
       "      <td>0</td>\n",
       "      <td>3</td>\n",
       "      <td>2</td>\n",
       "      <td>0</td>\n",
       "      <td>1</td>\n",
       "      <td>68</td>\n",
       "      <td>78</td>\n",
       "      <td>77</td>\n",
       "      <td>74.333333</td>\n",
       "      <td>C</td>\n",
       "      <td>pass</td>\n",
       "    </tr>\n",
       "    <tr>\n",
       "      <th>999</th>\n",
       "      <td>0</td>\n",
       "      <td>3</td>\n",
       "      <td>2</td>\n",
       "      <td>1</td>\n",
       "      <td>0</td>\n",
       "      <td>77</td>\n",
       "      <td>86</td>\n",
       "      <td>86</td>\n",
       "      <td>83.000000</td>\n",
       "      <td>B</td>\n",
       "      <td>pass</td>\n",
       "    </tr>\n",
       "  </tbody>\n",
       "</table>\n",
       "<p>1000 rows × 11 columns</p>\n",
       "</div>"
      ],
      "text/plain": [
       "     gender  race_ethnicity parental_education  lunch  test_prep  math  \\\n",
       "0         0               1                  4      0          0    72   \n",
       "1         0               2                  2      0          1    69   \n",
       "2         0               1                  5      0          0    90   \n",
       "3         1               0                  3      1          0    47   \n",
       "4         1               2                  2      0          0    76   \n",
       "..      ...             ...                ...    ...        ...   ...   \n",
       "995       0               4                  5      0          1    88   \n",
       "996       1               2                  1      1          0    62   \n",
       "997       0               2                  1      1          1    59   \n",
       "998       0               3                  2      0          1    68   \n",
       "999       0               3                  2      1          0    77   \n",
       "\n",
       "     reading  writing    average letter passOrFail  \n",
       "0         72       74  72.666667      C       pass  \n",
       "1         90       88  82.333333      B       pass  \n",
       "2         95       93  92.666667      A       pass  \n",
       "3         57       44  49.333333      F       fail  \n",
       "4         78       75  76.333333      C       pass  \n",
       "..       ...      ...        ...    ...        ...  \n",
       "995       99       95  94.000000      A       pass  \n",
       "996       55       55  57.333333      F       fail  \n",
       "997       71       65  65.000000      D       pass  \n",
       "998       78       77  74.333333      C       pass  \n",
       "999       86       86  83.000000      B       pass  \n",
       "\n",
       "[1000 rows x 11 columns]"
      ]
     },
     "execution_count": 52,
     "metadata": {},
     "output_type": "execute_result"
    }
   ],
   "source": [
    "data['passOrFail'] = data['average']\n",
    "data.loc[(data.average >= 0),'passOrFail']='fail'\n",
    "data.loc[(data.average >= 60),'passOrFail']='pass'\n",
    "data"
   ]
  },
  {
   "cell_type": "markdown",
   "metadata": {},
   "source": [
    "Splitting the data set into train and test sets, with 30% being test and 70% training, with the values being the first five columns (gender, race, parental education, lunch, and test_prep) and the class being whether the student's average test score is passing or failing.\n",
    "\n",
    "Then running KNN for k from 1 to 15 to see what the optimal k values are using the accuracy score."
   ]
  },
  {
   "cell_type": "code",
   "execution_count": 53,
   "metadata": {},
   "outputs": [
    {
     "data": {
      "text/plain": [
       "KNeighborsClassifier(n_neighbors=1)"
      ]
     },
     "execution_count": 53,
     "metadata": {},
     "output_type": "execute_result"
    },
    {
     "name": "stdout",
     "output_type": "stream",
     "text": [
      "Accuracy for k = 1 on the training subset is 0.7285714285714285\n",
      "Accuracy for k = 1 on the test set is 0.6233333333333333\n"
     ]
    },
    {
     "data": {
      "text/plain": [
       "KNeighborsClassifier(n_neighbors=2)"
      ]
     },
     "execution_count": 53,
     "metadata": {},
     "output_type": "execute_result"
    },
    {
     "name": "stdout",
     "output_type": "stream",
     "text": [
      "Accuracy for k = 2 on the training subset is 0.73\n",
      "Accuracy for k = 2 on the test set is 0.5966666666666667\n"
     ]
    },
    {
     "data": {
      "text/plain": [
       "KNeighborsClassifier(n_neighbors=3)"
      ]
     },
     "execution_count": 53,
     "metadata": {},
     "output_type": "execute_result"
    },
    {
     "name": "stdout",
     "output_type": "stream",
     "text": [
      "Accuracy for k = 3 on the training subset is 0.7885714285714286\n",
      "Accuracy for k = 3 on the test set is 0.68\n"
     ]
    },
    {
     "data": {
      "text/plain": [
       "KNeighborsClassifier(n_neighbors=4)"
      ]
     },
     "execution_count": 53,
     "metadata": {},
     "output_type": "execute_result"
    },
    {
     "name": "stdout",
     "output_type": "stream",
     "text": [
      "Accuracy for k = 4 on the training subset is 0.7557142857142857\n",
      "Accuracy for k = 4 on the test set is 0.6433333333333333\n"
     ]
    },
    {
     "data": {
      "text/plain": [
       "KNeighborsClassifier()"
      ]
     },
     "execution_count": 53,
     "metadata": {},
     "output_type": "execute_result"
    },
    {
     "name": "stdout",
     "output_type": "stream",
     "text": [
      "Accuracy for k = 5 on the training subset is 0.7928571428571428\n",
      "Accuracy for k = 5 on the test set is 0.6933333333333334\n"
     ]
    },
    {
     "data": {
      "text/plain": [
       "KNeighborsClassifier(n_neighbors=6)"
      ]
     },
     "execution_count": 53,
     "metadata": {},
     "output_type": "execute_result"
    },
    {
     "name": "stdout",
     "output_type": "stream",
     "text": [
      "Accuracy for k = 6 on the training subset is 0.7742857142857142\n",
      "Accuracy for k = 6 on the test set is 0.6533333333333333\n"
     ]
    },
    {
     "data": {
      "text/plain": [
       "KNeighborsClassifier(n_neighbors=7)"
      ]
     },
     "execution_count": 53,
     "metadata": {},
     "output_type": "execute_result"
    },
    {
     "name": "stdout",
     "output_type": "stream",
     "text": [
      "Accuracy for k = 7 on the training subset is 0.7828571428571428\n",
      "Accuracy for k = 7 on the test set is 0.69\n"
     ]
    },
    {
     "data": {
      "text/plain": [
       "KNeighborsClassifier(n_neighbors=8)"
      ]
     },
     "execution_count": 53,
     "metadata": {},
     "output_type": "execute_result"
    },
    {
     "name": "stdout",
     "output_type": "stream",
     "text": [
      "Accuracy for k = 8 on the training subset is 0.7742857142857142\n",
      "Accuracy for k = 8 on the test set is 0.6733333333333333\n"
     ]
    },
    {
     "data": {
      "text/plain": [
       "KNeighborsClassifier(n_neighbors=9)"
      ]
     },
     "execution_count": 53,
     "metadata": {},
     "output_type": "execute_result"
    },
    {
     "name": "stdout",
     "output_type": "stream",
     "text": [
      "Accuracy for k = 9 on the training subset is 0.7671428571428571\n",
      "Accuracy for k = 9 on the test set is 0.69\n"
     ]
    },
    {
     "data": {
      "text/plain": [
       "KNeighborsClassifier(n_neighbors=10)"
      ]
     },
     "execution_count": 53,
     "metadata": {},
     "output_type": "execute_result"
    },
    {
     "name": "stdout",
     "output_type": "stream",
     "text": [
      "Accuracy for k = 10 on the training subset is 0.7714285714285715\n",
      "Accuracy for k = 10 on the test set is 0.6866666666666666\n"
     ]
    },
    {
     "data": {
      "text/plain": [
       "KNeighborsClassifier(n_neighbors=11)"
      ]
     },
     "execution_count": 53,
     "metadata": {},
     "output_type": "execute_result"
    },
    {
     "name": "stdout",
     "output_type": "stream",
     "text": [
      "Accuracy for k = 11 on the training subset is 0.7585714285714286\n",
      "Accuracy for k = 11 on the test set is 0.6866666666666666\n"
     ]
    },
    {
     "data": {
      "text/plain": [
       "KNeighborsClassifier(n_neighbors=12)"
      ]
     },
     "execution_count": 53,
     "metadata": {},
     "output_type": "execute_result"
    },
    {
     "name": "stdout",
     "output_type": "stream",
     "text": [
      "Accuracy for k = 12 on the training subset is 0.7614285714285715\n",
      "Accuracy for k = 12 on the test set is 0.6766666666666666\n"
     ]
    },
    {
     "data": {
      "text/plain": [
       "KNeighborsClassifier(n_neighbors=13)"
      ]
     },
     "execution_count": 53,
     "metadata": {},
     "output_type": "execute_result"
    },
    {
     "name": "stdout",
     "output_type": "stream",
     "text": [
      "Accuracy for k = 13 on the training subset is 0.7657142857142857\n",
      "Accuracy for k = 13 on the test set is 0.7033333333333334\n"
     ]
    },
    {
     "data": {
      "text/plain": [
       "KNeighborsClassifier(n_neighbors=14)"
      ]
     },
     "execution_count": 53,
     "metadata": {},
     "output_type": "execute_result"
    },
    {
     "name": "stdout",
     "output_type": "stream",
     "text": [
      "Accuracy for k = 14 on the training subset is 0.7714285714285715\n",
      "Accuracy for k = 14 on the test set is 0.7133333333333334\n"
     ]
    }
   ],
   "source": [
    "x_train, x_test, y_train, y_test = train_test_split(data.iloc[:, 0:5], data['passOrFail'], \n",
    "                                                          test_size=0.3, train_size=0.7, stratify=data['passOrFail'])\n",
    "prediction_training = [0] * 15\n",
    "prediction_test = [0] * 15\n",
    "for k in range(1, 15):\n",
    "    knn = KNeighborsClassifier(n_neighbors=k)\n",
    "    knn.fit(x_train, y_train)\n",
    "    prediction_training[k] = knn.predict(x_train)\n",
    "    print(\"Accuracy for k = \" + str(k) + \" on the training subset is \" + str(accuracy_score(y_train, prediction_training[k])))\n",
    "    prediction_test[k] = knn.predict(x_test)\n",
    "    print(\"Accuracy for k = \" + str(k) + \" on the test set is \" + str(accuracy_score(y_test, prediction_test[k])))"
   ]
  },
  {
   "cell_type": "markdown",
   "metadata": {},
   "source": [
    "Running decision tree classifier on this dataset against whether each student's average test score is passing or failing, reporting the accuracy on the training and test sets."
   ]
  },
  {
   "cell_type": "code",
   "execution_count": 55,
   "metadata": {},
   "outputs": [
    {
     "data": {
      "text/plain": [
       "DecisionTreeClassifier()"
      ]
     },
     "execution_count": 55,
     "metadata": {},
     "output_type": "execute_result"
    },
    {
     "name": "stdout",
     "output_type": "stream",
     "text": [
      "Accuracy of the decision tree model on the test set: 0.81\n",
      "Accuracy of the decision tree model on the test set: 0.6766666666666666\n"
     ]
    }
   ],
   "source": [
    "tree = DecisionTreeClassifier()\n",
    "tree.fit(x_train, y_train)\n",
    "tree_predictions_train = tree.predict(x_train)\n",
    "print(\"Accuracy of the decision tree model on the test set: \" + str(accuracy_score(y_train, tree_predictions_train)))\n",
    "tree_predictions_test = tree.predict(x_test)\n",
    "print(\"Accuracy of the decision tree model on the test set: \" + str(accuracy_score(y_test, tree_predictions_test)))"
   ]
  },
  {
   "cell_type": "markdown",
   "metadata": {},
   "source": [
    "Making a class variable that has one of 5 possible letter grades depending on the student's math test score."
   ]
  },
  {
   "cell_type": "code",
   "execution_count": 65,
   "metadata": {},
   "outputs": [
    {
     "data": {
      "text/html": [
       "<div>\n",
       "<style scoped>\n",
       "    .dataframe tbody tr th:only-of-type {\n",
       "        vertical-align: middle;\n",
       "    }\n",
       "\n",
       "    .dataframe tbody tr th {\n",
       "        vertical-align: top;\n",
       "    }\n",
       "\n",
       "    .dataframe thead th {\n",
       "        text-align: right;\n",
       "    }\n",
       "</style>\n",
       "<table border=\"1\" class=\"dataframe\">\n",
       "  <thead>\n",
       "    <tr style=\"text-align: right;\">\n",
       "      <th></th>\n",
       "      <th>gender</th>\n",
       "      <th>race_ethnicity</th>\n",
       "      <th>parental_education</th>\n",
       "      <th>lunch</th>\n",
       "      <th>test_prep</th>\n",
       "      <th>math</th>\n",
       "      <th>reading</th>\n",
       "      <th>writing</th>\n",
       "      <th>average</th>\n",
       "      <th>letter</th>\n",
       "      <th>passOrFail</th>\n",
       "      <th>math_letter</th>\n",
       "    </tr>\n",
       "  </thead>\n",
       "  <tbody>\n",
       "    <tr>\n",
       "      <th>0</th>\n",
       "      <td>0</td>\n",
       "      <td>1</td>\n",
       "      <td>4</td>\n",
       "      <td>0</td>\n",
       "      <td>0</td>\n",
       "      <td>72</td>\n",
       "      <td>72</td>\n",
       "      <td>74</td>\n",
       "      <td>72.666667</td>\n",
       "      <td>C</td>\n",
       "      <td>pass</td>\n",
       "      <td>C</td>\n",
       "    </tr>\n",
       "    <tr>\n",
       "      <th>1</th>\n",
       "      <td>0</td>\n",
       "      <td>2</td>\n",
       "      <td>2</td>\n",
       "      <td>0</td>\n",
       "      <td>1</td>\n",
       "      <td>69</td>\n",
       "      <td>90</td>\n",
       "      <td>88</td>\n",
       "      <td>82.333333</td>\n",
       "      <td>B</td>\n",
       "      <td>pass</td>\n",
       "      <td>D</td>\n",
       "    </tr>\n",
       "    <tr>\n",
       "      <th>2</th>\n",
       "      <td>0</td>\n",
       "      <td>1</td>\n",
       "      <td>5</td>\n",
       "      <td>0</td>\n",
       "      <td>0</td>\n",
       "      <td>90</td>\n",
       "      <td>95</td>\n",
       "      <td>93</td>\n",
       "      <td>92.666667</td>\n",
       "      <td>A</td>\n",
       "      <td>pass</td>\n",
       "      <td>A</td>\n",
       "    </tr>\n",
       "    <tr>\n",
       "      <th>3</th>\n",
       "      <td>1</td>\n",
       "      <td>0</td>\n",
       "      <td>3</td>\n",
       "      <td>1</td>\n",
       "      <td>0</td>\n",
       "      <td>47</td>\n",
       "      <td>57</td>\n",
       "      <td>44</td>\n",
       "      <td>49.333333</td>\n",
       "      <td>F</td>\n",
       "      <td>fail</td>\n",
       "      <td>F</td>\n",
       "    </tr>\n",
       "    <tr>\n",
       "      <th>4</th>\n",
       "      <td>1</td>\n",
       "      <td>2</td>\n",
       "      <td>2</td>\n",
       "      <td>0</td>\n",
       "      <td>0</td>\n",
       "      <td>76</td>\n",
       "      <td>78</td>\n",
       "      <td>75</td>\n",
       "      <td>76.333333</td>\n",
       "      <td>C</td>\n",
       "      <td>pass</td>\n",
       "      <td>C</td>\n",
       "    </tr>\n",
       "    <tr>\n",
       "      <th>...</th>\n",
       "      <td>...</td>\n",
       "      <td>...</td>\n",
       "      <td>...</td>\n",
       "      <td>...</td>\n",
       "      <td>...</td>\n",
       "      <td>...</td>\n",
       "      <td>...</td>\n",
       "      <td>...</td>\n",
       "      <td>...</td>\n",
       "      <td>...</td>\n",
       "      <td>...</td>\n",
       "      <td>...</td>\n",
       "    </tr>\n",
       "    <tr>\n",
       "      <th>995</th>\n",
       "      <td>0</td>\n",
       "      <td>4</td>\n",
       "      <td>5</td>\n",
       "      <td>0</td>\n",
       "      <td>1</td>\n",
       "      <td>88</td>\n",
       "      <td>99</td>\n",
       "      <td>95</td>\n",
       "      <td>94.000000</td>\n",
       "      <td>A</td>\n",
       "      <td>pass</td>\n",
       "      <td>B</td>\n",
       "    </tr>\n",
       "    <tr>\n",
       "      <th>996</th>\n",
       "      <td>1</td>\n",
       "      <td>2</td>\n",
       "      <td>1</td>\n",
       "      <td>1</td>\n",
       "      <td>0</td>\n",
       "      <td>62</td>\n",
       "      <td>55</td>\n",
       "      <td>55</td>\n",
       "      <td>57.333333</td>\n",
       "      <td>F</td>\n",
       "      <td>fail</td>\n",
       "      <td>D</td>\n",
       "    </tr>\n",
       "    <tr>\n",
       "      <th>997</th>\n",
       "      <td>0</td>\n",
       "      <td>2</td>\n",
       "      <td>1</td>\n",
       "      <td>1</td>\n",
       "      <td>1</td>\n",
       "      <td>59</td>\n",
       "      <td>71</td>\n",
       "      <td>65</td>\n",
       "      <td>65.000000</td>\n",
       "      <td>D</td>\n",
       "      <td>pass</td>\n",
       "      <td>F</td>\n",
       "    </tr>\n",
       "    <tr>\n",
       "      <th>998</th>\n",
       "      <td>0</td>\n",
       "      <td>3</td>\n",
       "      <td>2</td>\n",
       "      <td>0</td>\n",
       "      <td>1</td>\n",
       "      <td>68</td>\n",
       "      <td>78</td>\n",
       "      <td>77</td>\n",
       "      <td>74.333333</td>\n",
       "      <td>C</td>\n",
       "      <td>pass</td>\n",
       "      <td>D</td>\n",
       "    </tr>\n",
       "    <tr>\n",
       "      <th>999</th>\n",
       "      <td>0</td>\n",
       "      <td>3</td>\n",
       "      <td>2</td>\n",
       "      <td>1</td>\n",
       "      <td>0</td>\n",
       "      <td>77</td>\n",
       "      <td>86</td>\n",
       "      <td>86</td>\n",
       "      <td>83.000000</td>\n",
       "      <td>B</td>\n",
       "      <td>pass</td>\n",
       "      <td>C</td>\n",
       "    </tr>\n",
       "  </tbody>\n",
       "</table>\n",
       "<p>1000 rows × 12 columns</p>\n",
       "</div>"
      ],
      "text/plain": [
       "     gender  race_ethnicity parental_education  lunch  test_prep  math  \\\n",
       "0         0               1                  4      0          0    72   \n",
       "1         0               2                  2      0          1    69   \n",
       "2         0               1                  5      0          0    90   \n",
       "3         1               0                  3      1          0    47   \n",
       "4         1               2                  2      0          0    76   \n",
       "..      ...             ...                ...    ...        ...   ...   \n",
       "995       0               4                  5      0          1    88   \n",
       "996       1               2                  1      1          0    62   \n",
       "997       0               2                  1      1          1    59   \n",
       "998       0               3                  2      0          1    68   \n",
       "999       0               3                  2      1          0    77   \n",
       "\n",
       "     reading  writing    average letter passOrFail math_letter  \n",
       "0         72       74  72.666667      C       pass           C  \n",
       "1         90       88  82.333333      B       pass           D  \n",
       "2         95       93  92.666667      A       pass           A  \n",
       "3         57       44  49.333333      F       fail           F  \n",
       "4         78       75  76.333333      C       pass           C  \n",
       "..       ...      ...        ...    ...        ...         ...  \n",
       "995       99       95  94.000000      A       pass           B  \n",
       "996       55       55  57.333333      F       fail           D  \n",
       "997       71       65  65.000000      D       pass           F  \n",
       "998       78       77  74.333333      C       pass           D  \n",
       "999       86       86  83.000000      B       pass           C  \n",
       "\n",
       "[1000 rows x 12 columns]"
      ]
     },
     "execution_count": 65,
     "metadata": {},
     "output_type": "execute_result"
    }
   ],
   "source": [
    "data['math_letter'] = data['average']\n",
    "data.loc[(data.math >= 0),'math_letter']='F'\n",
    "data.loc[(data.math >= 60),'math_letter']='D'\n",
    "data.loc[(data.math >= 70),'math_letter']='C'\n",
    "data.loc[(data.math >= 80),'math_letter']='B'\n",
    "data.loc[(data.math >= 90),'math_letter']='A'\n",
    "data"
   ]
  },
  {
   "cell_type": "markdown",
   "metadata": {},
   "source": [
    "Splitting the data set into train and test sets, with 30% being test and 70% training, with the values being the first five columns (gender, race, parental education, lunch, and test_prep) and the class being the letter grade for the student's math test score.\n",
    "\n",
    "Then running KNN for k from 1 to 15 to see what the optimal k values are using the accuracy score."
   ]
  },
  {
   "cell_type": "code",
   "execution_count": 66,
   "metadata": {},
   "outputs": [
    {
     "data": {
      "text/plain": [
       "KNeighborsClassifier(n_neighbors=1)"
      ]
     },
     "execution_count": 66,
     "metadata": {},
     "output_type": "execute_result"
    },
    {
     "name": "stdout",
     "output_type": "stream",
     "text": [
      "Accuracy for k = 1 on the training subset is 0.48\n",
      "Accuracy for k = 1 on the test set is 0.28\n"
     ]
    },
    {
     "data": {
      "text/plain": [
       "KNeighborsClassifier(n_neighbors=2)"
      ]
     },
     "execution_count": 66,
     "metadata": {},
     "output_type": "execute_result"
    },
    {
     "name": "stdout",
     "output_type": "stream",
     "text": [
      "Accuracy for k = 2 on the training subset is 0.4442857142857143\n",
      "Accuracy for k = 2 on the test set is 0.26\n"
     ]
    },
    {
     "data": {
      "text/plain": [
       "KNeighborsClassifier(n_neighbors=3)"
      ]
     },
     "execution_count": 66,
     "metadata": {},
     "output_type": "execute_result"
    },
    {
     "name": "stdout",
     "output_type": "stream",
     "text": [
      "Accuracy for k = 3 on the training subset is 0.4685714285714286\n",
      "Accuracy for k = 3 on the test set is 0.27666666666666667\n"
     ]
    },
    {
     "data": {
      "text/plain": [
       "KNeighborsClassifier(n_neighbors=4)"
      ]
     },
     "execution_count": 66,
     "metadata": {},
     "output_type": "execute_result"
    },
    {
     "name": "stdout",
     "output_type": "stream",
     "text": [
      "Accuracy for k = 4 on the training subset is 0.48428571428571426\n",
      "Accuracy for k = 4 on the test set is 0.28\n"
     ]
    },
    {
     "data": {
      "text/plain": [
       "KNeighborsClassifier()"
      ]
     },
     "execution_count": 66,
     "metadata": {},
     "output_type": "execute_result"
    },
    {
     "name": "stdout",
     "output_type": "stream",
     "text": [
      "Accuracy for k = 5 on the training subset is 0.4828571428571429\n",
      "Accuracy for k = 5 on the test set is 0.2866666666666667\n"
     ]
    },
    {
     "data": {
      "text/plain": [
       "KNeighborsClassifier(n_neighbors=6)"
      ]
     },
     "execution_count": 66,
     "metadata": {},
     "output_type": "execute_result"
    },
    {
     "name": "stdout",
     "output_type": "stream",
     "text": [
      "Accuracy for k = 6 on the training subset is 0.46285714285714286\n",
      "Accuracy for k = 6 on the test set is 0.32\n"
     ]
    },
    {
     "data": {
      "text/plain": [
       "KNeighborsClassifier(n_neighbors=7)"
      ]
     },
     "execution_count": 66,
     "metadata": {},
     "output_type": "execute_result"
    },
    {
     "name": "stdout",
     "output_type": "stream",
     "text": [
      "Accuracy for k = 7 on the training subset is 0.45571428571428574\n",
      "Accuracy for k = 7 on the test set is 0.33666666666666667\n"
     ]
    },
    {
     "data": {
      "text/plain": [
       "KNeighborsClassifier(n_neighbors=8)"
      ]
     },
     "execution_count": 66,
     "metadata": {},
     "output_type": "execute_result"
    },
    {
     "name": "stdout",
     "output_type": "stream",
     "text": [
      "Accuracy for k = 8 on the training subset is 0.4471428571428571\n",
      "Accuracy for k = 8 on the test set is 0.33666666666666667\n"
     ]
    },
    {
     "data": {
      "text/plain": [
       "KNeighborsClassifier(n_neighbors=9)"
      ]
     },
     "execution_count": 66,
     "metadata": {},
     "output_type": "execute_result"
    },
    {
     "name": "stdout",
     "output_type": "stream",
     "text": [
      "Accuracy for k = 9 on the training subset is 0.4471428571428571\n",
      "Accuracy for k = 9 on the test set is 0.37333333333333335\n"
     ]
    },
    {
     "data": {
      "text/plain": [
       "KNeighborsClassifier(n_neighbors=10)"
      ]
     },
     "execution_count": 66,
     "metadata": {},
     "output_type": "execute_result"
    },
    {
     "name": "stdout",
     "output_type": "stream",
     "text": [
      "Accuracy for k = 10 on the training subset is 0.44285714285714284\n",
      "Accuracy for k = 10 on the test set is 0.31333333333333335\n"
     ]
    },
    {
     "data": {
      "text/plain": [
       "KNeighborsClassifier(n_neighbors=11)"
      ]
     },
     "execution_count": 66,
     "metadata": {},
     "output_type": "execute_result"
    },
    {
     "name": "stdout",
     "output_type": "stream",
     "text": [
      "Accuracy for k = 11 on the training subset is 0.4357142857142857\n",
      "Accuracy for k = 11 on the test set is 0.3333333333333333\n"
     ]
    },
    {
     "data": {
      "text/plain": [
       "KNeighborsClassifier(n_neighbors=12)"
      ]
     },
     "execution_count": 66,
     "metadata": {},
     "output_type": "execute_result"
    },
    {
     "name": "stdout",
     "output_type": "stream",
     "text": [
      "Accuracy for k = 12 on the training subset is 0.43\n",
      "Accuracy for k = 12 on the test set is 0.3433333333333333\n"
     ]
    },
    {
     "data": {
      "text/plain": [
       "KNeighborsClassifier(n_neighbors=13)"
      ]
     },
     "execution_count": 66,
     "metadata": {},
     "output_type": "execute_result"
    },
    {
     "name": "stdout",
     "output_type": "stream",
     "text": [
      "Accuracy for k = 13 on the training subset is 0.4328571428571429\n",
      "Accuracy for k = 13 on the test set is 0.3233333333333333\n"
     ]
    },
    {
     "data": {
      "text/plain": [
       "KNeighborsClassifier(n_neighbors=14)"
      ]
     },
     "execution_count": 66,
     "metadata": {},
     "output_type": "execute_result"
    },
    {
     "name": "stdout",
     "output_type": "stream",
     "text": [
      "Accuracy for k = 14 on the training subset is 0.41714285714285715\n",
      "Accuracy for k = 14 on the test set is 0.3233333333333333\n"
     ]
    }
   ],
   "source": [
    "x_train, x_test, y_train, y_test = train_test_split(data.iloc[:, 0:5], data['math_letter'], \n",
    "                                                          test_size=0.3, train_size=0.7, stratify=data['math_letter'])\n",
    "prediction_training = [0] * 15\n",
    "prediction_test = [0] * 15\n",
    "for k in range(1, 15):\n",
    "    knn = KNeighborsClassifier(n_neighbors=k)\n",
    "    knn.fit(x_train, y_train)\n",
    "    prediction_training[k] = knn.predict(x_train)\n",
    "    print(\"Accuracy for k = \" + str(k) + \" on the training subset is \" + str(accuracy_score(y_train, prediction_training[k])))\n",
    "    prediction_test[k] = knn.predict(x_test)\n",
    "    print(\"Accuracy for k = \" + str(k) + \" on the test set is \" + str(accuracy_score(y_test, prediction_test[k])))"
   ]
  },
  {
   "cell_type": "markdown",
   "metadata": {},
   "source": [
    "Running decision tree classifier on this dataset against the letter grade for each student's math test score, reporting the accuracy on the training and test sets."
   ]
  },
  {
   "cell_type": "code",
   "execution_count": 67,
   "metadata": {},
   "outputs": [
    {
     "data": {
      "text/plain": [
       "DecisionTreeClassifier()"
      ]
     },
     "execution_count": 67,
     "metadata": {},
     "output_type": "execute_result"
    },
    {
     "name": "stdout",
     "output_type": "stream",
     "text": [
      "Accuracy of the decision tree model on the test set: 0.5542857142857143\n",
      "Accuracy of the decision tree model on the test set: 0.26666666666666666\n"
     ]
    }
   ],
   "source": [
    "tree = DecisionTreeClassifier()\n",
    "tree.fit(x_train, y_train)\n",
    "tree_predictions_train = tree.predict(x_train)\n",
    "print(\"Accuracy of the decision tree model on the test set: \" + str(accuracy_score(y_train, tree_predictions_train)))\n",
    "tree_predictions_test = tree.predict(x_test)\n",
    "print(\"Accuracy of the decision tree model on the test set: \" + str(accuracy_score(y_test, tree_predictions_test)))"
   ]
  },
  {
   "cell_type": "markdown",
   "metadata": {},
   "source": [
    "Creating another class variable based on the student's math test grade, but only splitting into passing or failing rather than letter grades."
   ]
  },
  {
   "cell_type": "code",
   "execution_count": 68,
   "metadata": {},
   "outputs": [
    {
     "data": {
      "text/html": [
       "<div>\n",
       "<style scoped>\n",
       "    .dataframe tbody tr th:only-of-type {\n",
       "        vertical-align: middle;\n",
       "    }\n",
       "\n",
       "    .dataframe tbody tr th {\n",
       "        vertical-align: top;\n",
       "    }\n",
       "\n",
       "    .dataframe thead th {\n",
       "        text-align: right;\n",
       "    }\n",
       "</style>\n",
       "<table border=\"1\" class=\"dataframe\">\n",
       "  <thead>\n",
       "    <tr style=\"text-align: right;\">\n",
       "      <th></th>\n",
       "      <th>gender</th>\n",
       "      <th>race_ethnicity</th>\n",
       "      <th>parental_education</th>\n",
       "      <th>lunch</th>\n",
       "      <th>test_prep</th>\n",
       "      <th>math</th>\n",
       "      <th>reading</th>\n",
       "      <th>writing</th>\n",
       "      <th>average</th>\n",
       "      <th>letter</th>\n",
       "      <th>passOrFail</th>\n",
       "      <th>math_letter</th>\n",
       "      <th>math_passOrFail</th>\n",
       "    </tr>\n",
       "  </thead>\n",
       "  <tbody>\n",
       "    <tr>\n",
       "      <th>0</th>\n",
       "      <td>0</td>\n",
       "      <td>1</td>\n",
       "      <td>4</td>\n",
       "      <td>0</td>\n",
       "      <td>0</td>\n",
       "      <td>72</td>\n",
       "      <td>72</td>\n",
       "      <td>74</td>\n",
       "      <td>72.666667</td>\n",
       "      <td>C</td>\n",
       "      <td>pass</td>\n",
       "      <td>C</td>\n",
       "      <td>pass</td>\n",
       "    </tr>\n",
       "    <tr>\n",
       "      <th>1</th>\n",
       "      <td>0</td>\n",
       "      <td>2</td>\n",
       "      <td>2</td>\n",
       "      <td>0</td>\n",
       "      <td>1</td>\n",
       "      <td>69</td>\n",
       "      <td>90</td>\n",
       "      <td>88</td>\n",
       "      <td>82.333333</td>\n",
       "      <td>B</td>\n",
       "      <td>pass</td>\n",
       "      <td>D</td>\n",
       "      <td>pass</td>\n",
       "    </tr>\n",
       "    <tr>\n",
       "      <th>2</th>\n",
       "      <td>0</td>\n",
       "      <td>1</td>\n",
       "      <td>5</td>\n",
       "      <td>0</td>\n",
       "      <td>0</td>\n",
       "      <td>90</td>\n",
       "      <td>95</td>\n",
       "      <td>93</td>\n",
       "      <td>92.666667</td>\n",
       "      <td>A</td>\n",
       "      <td>pass</td>\n",
       "      <td>A</td>\n",
       "      <td>pass</td>\n",
       "    </tr>\n",
       "    <tr>\n",
       "      <th>3</th>\n",
       "      <td>1</td>\n",
       "      <td>0</td>\n",
       "      <td>3</td>\n",
       "      <td>1</td>\n",
       "      <td>0</td>\n",
       "      <td>47</td>\n",
       "      <td>57</td>\n",
       "      <td>44</td>\n",
       "      <td>49.333333</td>\n",
       "      <td>F</td>\n",
       "      <td>fail</td>\n",
       "      <td>F</td>\n",
       "      <td>fail</td>\n",
       "    </tr>\n",
       "    <tr>\n",
       "      <th>4</th>\n",
       "      <td>1</td>\n",
       "      <td>2</td>\n",
       "      <td>2</td>\n",
       "      <td>0</td>\n",
       "      <td>0</td>\n",
       "      <td>76</td>\n",
       "      <td>78</td>\n",
       "      <td>75</td>\n",
       "      <td>76.333333</td>\n",
       "      <td>C</td>\n",
       "      <td>pass</td>\n",
       "      <td>C</td>\n",
       "      <td>pass</td>\n",
       "    </tr>\n",
       "    <tr>\n",
       "      <th>...</th>\n",
       "      <td>...</td>\n",
       "      <td>...</td>\n",
       "      <td>...</td>\n",
       "      <td>...</td>\n",
       "      <td>...</td>\n",
       "      <td>...</td>\n",
       "      <td>...</td>\n",
       "      <td>...</td>\n",
       "      <td>...</td>\n",
       "      <td>...</td>\n",
       "      <td>...</td>\n",
       "      <td>...</td>\n",
       "      <td>...</td>\n",
       "    </tr>\n",
       "    <tr>\n",
       "      <th>995</th>\n",
       "      <td>0</td>\n",
       "      <td>4</td>\n",
       "      <td>5</td>\n",
       "      <td>0</td>\n",
       "      <td>1</td>\n",
       "      <td>88</td>\n",
       "      <td>99</td>\n",
       "      <td>95</td>\n",
       "      <td>94.000000</td>\n",
       "      <td>A</td>\n",
       "      <td>pass</td>\n",
       "      <td>B</td>\n",
       "      <td>pass</td>\n",
       "    </tr>\n",
       "    <tr>\n",
       "      <th>996</th>\n",
       "      <td>1</td>\n",
       "      <td>2</td>\n",
       "      <td>1</td>\n",
       "      <td>1</td>\n",
       "      <td>0</td>\n",
       "      <td>62</td>\n",
       "      <td>55</td>\n",
       "      <td>55</td>\n",
       "      <td>57.333333</td>\n",
       "      <td>F</td>\n",
       "      <td>fail</td>\n",
       "      <td>D</td>\n",
       "      <td>pass</td>\n",
       "    </tr>\n",
       "    <tr>\n",
       "      <th>997</th>\n",
       "      <td>0</td>\n",
       "      <td>2</td>\n",
       "      <td>1</td>\n",
       "      <td>1</td>\n",
       "      <td>1</td>\n",
       "      <td>59</td>\n",
       "      <td>71</td>\n",
       "      <td>65</td>\n",
       "      <td>65.000000</td>\n",
       "      <td>D</td>\n",
       "      <td>pass</td>\n",
       "      <td>F</td>\n",
       "      <td>fail</td>\n",
       "    </tr>\n",
       "    <tr>\n",
       "      <th>998</th>\n",
       "      <td>0</td>\n",
       "      <td>3</td>\n",
       "      <td>2</td>\n",
       "      <td>0</td>\n",
       "      <td>1</td>\n",
       "      <td>68</td>\n",
       "      <td>78</td>\n",
       "      <td>77</td>\n",
       "      <td>74.333333</td>\n",
       "      <td>C</td>\n",
       "      <td>pass</td>\n",
       "      <td>D</td>\n",
       "      <td>pass</td>\n",
       "    </tr>\n",
       "    <tr>\n",
       "      <th>999</th>\n",
       "      <td>0</td>\n",
       "      <td>3</td>\n",
       "      <td>2</td>\n",
       "      <td>1</td>\n",
       "      <td>0</td>\n",
       "      <td>77</td>\n",
       "      <td>86</td>\n",
       "      <td>86</td>\n",
       "      <td>83.000000</td>\n",
       "      <td>B</td>\n",
       "      <td>pass</td>\n",
       "      <td>C</td>\n",
       "      <td>pass</td>\n",
       "    </tr>\n",
       "  </tbody>\n",
       "</table>\n",
       "<p>1000 rows × 13 columns</p>\n",
       "</div>"
      ],
      "text/plain": [
       "     gender  race_ethnicity parental_education  lunch  test_prep  math  \\\n",
       "0         0               1                  4      0          0    72   \n",
       "1         0               2                  2      0          1    69   \n",
       "2         0               1                  5      0          0    90   \n",
       "3         1               0                  3      1          0    47   \n",
       "4         1               2                  2      0          0    76   \n",
       "..      ...             ...                ...    ...        ...   ...   \n",
       "995       0               4                  5      0          1    88   \n",
       "996       1               2                  1      1          0    62   \n",
       "997       0               2                  1      1          1    59   \n",
       "998       0               3                  2      0          1    68   \n",
       "999       0               3                  2      1          0    77   \n",
       "\n",
       "     reading  writing    average letter passOrFail math_letter math_passOrFail  \n",
       "0         72       74  72.666667      C       pass           C            pass  \n",
       "1         90       88  82.333333      B       pass           D            pass  \n",
       "2         95       93  92.666667      A       pass           A            pass  \n",
       "3         57       44  49.333333      F       fail           F            fail  \n",
       "4         78       75  76.333333      C       pass           C            pass  \n",
       "..       ...      ...        ...    ...        ...         ...             ...  \n",
       "995       99       95  94.000000      A       pass           B            pass  \n",
       "996       55       55  57.333333      F       fail           D            pass  \n",
       "997       71       65  65.000000      D       pass           F            fail  \n",
       "998       78       77  74.333333      C       pass           D            pass  \n",
       "999       86       86  83.000000      B       pass           C            pass  \n",
       "\n",
       "[1000 rows x 13 columns]"
      ]
     },
     "execution_count": 68,
     "metadata": {},
     "output_type": "execute_result"
    }
   ],
   "source": [
    "data['math_passOrFail'] = data['average']\n",
    "data.loc[(data.math >= 0),'math_passOrFail']='fail'\n",
    "data.loc[(data.math >= 60),'math_passOrFail']='pass'\n",
    "data"
   ]
  },
  {
   "cell_type": "markdown",
   "metadata": {},
   "source": [
    "Splitting the data set into train and test sets, with 30% being test and 70% training, with the values being the first five columns (gender, race, parental education, lunch, and test_prep) and the class being whether the student's math test score is passing or failing.\n",
    "\n",
    "Then running KNN for k from 1 to 15 to see what the optimal k values are using the accuracy score."
   ]
  },
  {
   "cell_type": "code",
   "execution_count": 69,
   "metadata": {},
   "outputs": [
    {
     "data": {
      "text/plain": [
       "KNeighborsClassifier(n_neighbors=1)"
      ]
     },
     "execution_count": 69,
     "metadata": {},
     "output_type": "execute_result"
    },
    {
     "name": "stdout",
     "output_type": "stream",
     "text": [
      "Accuracy for k = 1 on the training subset is 0.7057142857142857\n",
      "Accuracy for k = 1 on the test set is 0.57\n"
     ]
    },
    {
     "data": {
      "text/plain": [
       "KNeighborsClassifier(n_neighbors=2)"
      ]
     },
     "execution_count": 69,
     "metadata": {},
     "output_type": "execute_result"
    },
    {
     "name": "stdout",
     "output_type": "stream",
     "text": [
      "Accuracy for k = 2 on the training subset is 0.6771428571428572\n",
      "Accuracy for k = 2 on the test set is 0.51\n"
     ]
    },
    {
     "data": {
      "text/plain": [
       "KNeighborsClassifier(n_neighbors=3)"
      ]
     },
     "execution_count": 69,
     "metadata": {},
     "output_type": "execute_result"
    },
    {
     "name": "stdout",
     "output_type": "stream",
     "text": [
      "Accuracy for k = 3 on the training subset is 0.7471428571428571\n",
      "Accuracy for k = 3 on the test set is 0.6\n"
     ]
    },
    {
     "data": {
      "text/plain": [
       "KNeighborsClassifier(n_neighbors=4)"
      ]
     },
     "execution_count": 69,
     "metadata": {},
     "output_type": "execute_result"
    },
    {
     "name": "stdout",
     "output_type": "stream",
     "text": [
      "Accuracy for k = 4 on the training subset is 0.7242857142857143\n",
      "Accuracy for k = 4 on the test set is 0.5833333333333334\n"
     ]
    },
    {
     "data": {
      "text/plain": [
       "KNeighborsClassifier()"
      ]
     },
     "execution_count": 69,
     "metadata": {},
     "output_type": "execute_result"
    },
    {
     "name": "stdout",
     "output_type": "stream",
     "text": [
      "Accuracy for k = 5 on the training subset is 0.7457142857142857\n",
      "Accuracy for k = 5 on the test set is 0.6066666666666667\n"
     ]
    },
    {
     "data": {
      "text/plain": [
       "KNeighborsClassifier(n_neighbors=6)"
      ]
     },
     "execution_count": 69,
     "metadata": {},
     "output_type": "execute_result"
    },
    {
     "name": "stdout",
     "output_type": "stream",
     "text": [
      "Accuracy for k = 6 on the training subset is 0.72\n",
      "Accuracy for k = 6 on the test set is 0.5933333333333334\n"
     ]
    },
    {
     "data": {
      "text/plain": [
       "KNeighborsClassifier(n_neighbors=7)"
      ]
     },
     "execution_count": 69,
     "metadata": {},
     "output_type": "execute_result"
    },
    {
     "name": "stdout",
     "output_type": "stream",
     "text": [
      "Accuracy for k = 7 on the training subset is 0.7471428571428571\n",
      "Accuracy for k = 7 on the test set is 0.6433333333333333\n"
     ]
    },
    {
     "data": {
      "text/plain": [
       "KNeighborsClassifier(n_neighbors=8)"
      ]
     },
     "execution_count": 69,
     "metadata": {},
     "output_type": "execute_result"
    },
    {
     "name": "stdout",
     "output_type": "stream",
     "text": [
      "Accuracy for k = 8 on the training subset is 0.7328571428571429\n",
      "Accuracy for k = 8 on the test set is 0.63\n"
     ]
    },
    {
     "data": {
      "text/plain": [
       "KNeighborsClassifier(n_neighbors=9)"
      ]
     },
     "execution_count": 69,
     "metadata": {},
     "output_type": "execute_result"
    },
    {
     "name": "stdout",
     "output_type": "stream",
     "text": [
      "Accuracy for k = 9 on the training subset is 0.7357142857142858\n",
      "Accuracy for k = 9 on the test set is 0.64\n"
     ]
    },
    {
     "data": {
      "text/plain": [
       "KNeighborsClassifier(n_neighbors=10)"
      ]
     },
     "execution_count": 69,
     "metadata": {},
     "output_type": "execute_result"
    },
    {
     "name": "stdout",
     "output_type": "stream",
     "text": [
      "Accuracy for k = 10 on the training subset is 0.7371428571428571\n",
      "Accuracy for k = 10 on the test set is 0.6266666666666667\n"
     ]
    },
    {
     "data": {
      "text/plain": [
       "KNeighborsClassifier(n_neighbors=11)"
      ]
     },
     "execution_count": 69,
     "metadata": {},
     "output_type": "execute_result"
    },
    {
     "name": "stdout",
     "output_type": "stream",
     "text": [
      "Accuracy for k = 11 on the training subset is 0.7357142857142858\n",
      "Accuracy for k = 11 on the test set is 0.6233333333333333\n"
     ]
    },
    {
     "data": {
      "text/plain": [
       "KNeighborsClassifier(n_neighbors=12)"
      ]
     },
     "execution_count": 69,
     "metadata": {},
     "output_type": "execute_result"
    },
    {
     "name": "stdout",
     "output_type": "stream",
     "text": [
      "Accuracy for k = 12 on the training subset is 0.7314285714285714\n",
      "Accuracy for k = 12 on the test set is 0.6433333333333333\n"
     ]
    },
    {
     "data": {
      "text/plain": [
       "KNeighborsClassifier(n_neighbors=13)"
      ]
     },
     "execution_count": 69,
     "metadata": {},
     "output_type": "execute_result"
    },
    {
     "name": "stdout",
     "output_type": "stream",
     "text": [
      "Accuracy for k = 13 on the training subset is 0.7271428571428571\n",
      "Accuracy for k = 13 on the test set is 0.6433333333333333\n"
     ]
    },
    {
     "data": {
      "text/plain": [
       "KNeighborsClassifier(n_neighbors=14)"
      ]
     },
     "execution_count": 69,
     "metadata": {},
     "output_type": "execute_result"
    },
    {
     "name": "stdout",
     "output_type": "stream",
     "text": [
      "Accuracy for k = 14 on the training subset is 0.7285714285714285\n",
      "Accuracy for k = 14 on the test set is 0.6433333333333333\n"
     ]
    }
   ],
   "source": [
    "x_train, x_test, y_train, y_test = train_test_split(data.iloc[:, 0:5], data['math_passOrFail'], \n",
    "                                                          test_size=0.3, train_size=0.7, stratify=data['math_passOrFail'])\n",
    "prediction_training = [0] * 15\n",
    "prediction_test = [0] * 15\n",
    "for k in range(1, 15):\n",
    "    knn = KNeighborsClassifier(n_neighbors=k)\n",
    "    knn.fit(x_train, y_train)\n",
    "    prediction_training[k] = knn.predict(x_train)\n",
    "    print(\"Accuracy for k = \" + str(k) + \" on the training subset is \" + str(accuracy_score(y_train, prediction_training[k])))\n",
    "    prediction_test[k] = knn.predict(x_test)\n",
    "    print(\"Accuracy for k = \" + str(k) + \" on the test set is \" + str(accuracy_score(y_test, prediction_test[k])))"
   ]
  },
  {
   "cell_type": "markdown",
   "metadata": {},
   "source": [
    "Running decision tree classifier on this dataset against whether each student's math test score is passing or failing, reporting the accuracy on the training and test sets."
   ]
  },
  {
   "cell_type": "code",
   "execution_count": 70,
   "metadata": {},
   "outputs": [
    {
     "data": {
      "text/plain": [
       "DecisionTreeClassifier()"
      ]
     },
     "execution_count": 70,
     "metadata": {},
     "output_type": "execute_result"
    },
    {
     "name": "stdout",
     "output_type": "stream",
     "text": [
      "Accuracy of the decision tree model on the test set: 0.78\n",
      "Accuracy of the decision tree model on the test set: 0.5866666666666667\n"
     ]
    }
   ],
   "source": [
    "tree = DecisionTreeClassifier()\n",
    "tree.fit(x_train, y_train)\n",
    "tree_predictions_train = tree.predict(x_train)\n",
    "print(\"Accuracy of the decision tree model on the test set: \" + str(accuracy_score(y_train, tree_predictions_train)))\n",
    "tree_predictions_test = tree.predict(x_test)\n",
    "print(\"Accuracy of the decision tree model on the test set: \" + str(accuracy_score(y_test, tree_predictions_test)))"
   ]
  },
  {
   "cell_type": "markdown",
   "metadata": {},
   "source": [
    "Making a class variable that has one of 5 possible letter grades depending on the student's reading test score."
   ]
  },
  {
   "cell_type": "code",
   "execution_count": 71,
   "metadata": {},
   "outputs": [
    {
     "data": {
      "text/html": [
       "<div>\n",
       "<style scoped>\n",
       "    .dataframe tbody tr th:only-of-type {\n",
       "        vertical-align: middle;\n",
       "    }\n",
       "\n",
       "    .dataframe tbody tr th {\n",
       "        vertical-align: top;\n",
       "    }\n",
       "\n",
       "    .dataframe thead th {\n",
       "        text-align: right;\n",
       "    }\n",
       "</style>\n",
       "<table border=\"1\" class=\"dataframe\">\n",
       "  <thead>\n",
       "    <tr style=\"text-align: right;\">\n",
       "      <th></th>\n",
       "      <th>gender</th>\n",
       "      <th>race_ethnicity</th>\n",
       "      <th>parental_education</th>\n",
       "      <th>lunch</th>\n",
       "      <th>test_prep</th>\n",
       "      <th>math</th>\n",
       "      <th>reading</th>\n",
       "      <th>writing</th>\n",
       "      <th>average</th>\n",
       "      <th>letter</th>\n",
       "      <th>passOrFail</th>\n",
       "      <th>math_letter</th>\n",
       "      <th>math_passOrFail</th>\n",
       "      <th>read_letter</th>\n",
       "    </tr>\n",
       "  </thead>\n",
       "  <tbody>\n",
       "    <tr>\n",
       "      <th>0</th>\n",
       "      <td>0</td>\n",
       "      <td>1</td>\n",
       "      <td>4</td>\n",
       "      <td>0</td>\n",
       "      <td>0</td>\n",
       "      <td>72</td>\n",
       "      <td>72</td>\n",
       "      <td>74</td>\n",
       "      <td>72.666667</td>\n",
       "      <td>C</td>\n",
       "      <td>pass</td>\n",
       "      <td>C</td>\n",
       "      <td>pass</td>\n",
       "      <td>C</td>\n",
       "    </tr>\n",
       "    <tr>\n",
       "      <th>1</th>\n",
       "      <td>0</td>\n",
       "      <td>2</td>\n",
       "      <td>2</td>\n",
       "      <td>0</td>\n",
       "      <td>1</td>\n",
       "      <td>69</td>\n",
       "      <td>90</td>\n",
       "      <td>88</td>\n",
       "      <td>82.333333</td>\n",
       "      <td>B</td>\n",
       "      <td>pass</td>\n",
       "      <td>D</td>\n",
       "      <td>pass</td>\n",
       "      <td>A</td>\n",
       "    </tr>\n",
       "    <tr>\n",
       "      <th>2</th>\n",
       "      <td>0</td>\n",
       "      <td>1</td>\n",
       "      <td>5</td>\n",
       "      <td>0</td>\n",
       "      <td>0</td>\n",
       "      <td>90</td>\n",
       "      <td>95</td>\n",
       "      <td>93</td>\n",
       "      <td>92.666667</td>\n",
       "      <td>A</td>\n",
       "      <td>pass</td>\n",
       "      <td>A</td>\n",
       "      <td>pass</td>\n",
       "      <td>A</td>\n",
       "    </tr>\n",
       "    <tr>\n",
       "      <th>3</th>\n",
       "      <td>1</td>\n",
       "      <td>0</td>\n",
       "      <td>3</td>\n",
       "      <td>1</td>\n",
       "      <td>0</td>\n",
       "      <td>47</td>\n",
       "      <td>57</td>\n",
       "      <td>44</td>\n",
       "      <td>49.333333</td>\n",
       "      <td>F</td>\n",
       "      <td>fail</td>\n",
       "      <td>F</td>\n",
       "      <td>fail</td>\n",
       "      <td>F</td>\n",
       "    </tr>\n",
       "    <tr>\n",
       "      <th>4</th>\n",
       "      <td>1</td>\n",
       "      <td>2</td>\n",
       "      <td>2</td>\n",
       "      <td>0</td>\n",
       "      <td>0</td>\n",
       "      <td>76</td>\n",
       "      <td>78</td>\n",
       "      <td>75</td>\n",
       "      <td>76.333333</td>\n",
       "      <td>C</td>\n",
       "      <td>pass</td>\n",
       "      <td>C</td>\n",
       "      <td>pass</td>\n",
       "      <td>C</td>\n",
       "    </tr>\n",
       "    <tr>\n",
       "      <th>...</th>\n",
       "      <td>...</td>\n",
       "      <td>...</td>\n",
       "      <td>...</td>\n",
       "      <td>...</td>\n",
       "      <td>...</td>\n",
       "      <td>...</td>\n",
       "      <td>...</td>\n",
       "      <td>...</td>\n",
       "      <td>...</td>\n",
       "      <td>...</td>\n",
       "      <td>...</td>\n",
       "      <td>...</td>\n",
       "      <td>...</td>\n",
       "      <td>...</td>\n",
       "    </tr>\n",
       "    <tr>\n",
       "      <th>995</th>\n",
       "      <td>0</td>\n",
       "      <td>4</td>\n",
       "      <td>5</td>\n",
       "      <td>0</td>\n",
       "      <td>1</td>\n",
       "      <td>88</td>\n",
       "      <td>99</td>\n",
       "      <td>95</td>\n",
       "      <td>94.000000</td>\n",
       "      <td>A</td>\n",
       "      <td>pass</td>\n",
       "      <td>B</td>\n",
       "      <td>pass</td>\n",
       "      <td>A</td>\n",
       "    </tr>\n",
       "    <tr>\n",
       "      <th>996</th>\n",
       "      <td>1</td>\n",
       "      <td>2</td>\n",
       "      <td>1</td>\n",
       "      <td>1</td>\n",
       "      <td>0</td>\n",
       "      <td>62</td>\n",
       "      <td>55</td>\n",
       "      <td>55</td>\n",
       "      <td>57.333333</td>\n",
       "      <td>F</td>\n",
       "      <td>fail</td>\n",
       "      <td>D</td>\n",
       "      <td>pass</td>\n",
       "      <td>F</td>\n",
       "    </tr>\n",
       "    <tr>\n",
       "      <th>997</th>\n",
       "      <td>0</td>\n",
       "      <td>2</td>\n",
       "      <td>1</td>\n",
       "      <td>1</td>\n",
       "      <td>1</td>\n",
       "      <td>59</td>\n",
       "      <td>71</td>\n",
       "      <td>65</td>\n",
       "      <td>65.000000</td>\n",
       "      <td>D</td>\n",
       "      <td>pass</td>\n",
       "      <td>F</td>\n",
       "      <td>fail</td>\n",
       "      <td>C</td>\n",
       "    </tr>\n",
       "    <tr>\n",
       "      <th>998</th>\n",
       "      <td>0</td>\n",
       "      <td>3</td>\n",
       "      <td>2</td>\n",
       "      <td>0</td>\n",
       "      <td>1</td>\n",
       "      <td>68</td>\n",
       "      <td>78</td>\n",
       "      <td>77</td>\n",
       "      <td>74.333333</td>\n",
       "      <td>C</td>\n",
       "      <td>pass</td>\n",
       "      <td>D</td>\n",
       "      <td>pass</td>\n",
       "      <td>C</td>\n",
       "    </tr>\n",
       "    <tr>\n",
       "      <th>999</th>\n",
       "      <td>0</td>\n",
       "      <td>3</td>\n",
       "      <td>2</td>\n",
       "      <td>1</td>\n",
       "      <td>0</td>\n",
       "      <td>77</td>\n",
       "      <td>86</td>\n",
       "      <td>86</td>\n",
       "      <td>83.000000</td>\n",
       "      <td>B</td>\n",
       "      <td>pass</td>\n",
       "      <td>C</td>\n",
       "      <td>pass</td>\n",
       "      <td>B</td>\n",
       "    </tr>\n",
       "  </tbody>\n",
       "</table>\n",
       "<p>1000 rows × 14 columns</p>\n",
       "</div>"
      ],
      "text/plain": [
       "     gender  race_ethnicity parental_education  lunch  test_prep  math  \\\n",
       "0         0               1                  4      0          0    72   \n",
       "1         0               2                  2      0          1    69   \n",
       "2         0               1                  5      0          0    90   \n",
       "3         1               0                  3      1          0    47   \n",
       "4         1               2                  2      0          0    76   \n",
       "..      ...             ...                ...    ...        ...   ...   \n",
       "995       0               4                  5      0          1    88   \n",
       "996       1               2                  1      1          0    62   \n",
       "997       0               2                  1      1          1    59   \n",
       "998       0               3                  2      0          1    68   \n",
       "999       0               3                  2      1          0    77   \n",
       "\n",
       "     reading  writing    average letter passOrFail math_letter  \\\n",
       "0         72       74  72.666667      C       pass           C   \n",
       "1         90       88  82.333333      B       pass           D   \n",
       "2         95       93  92.666667      A       pass           A   \n",
       "3         57       44  49.333333      F       fail           F   \n",
       "4         78       75  76.333333      C       pass           C   \n",
       "..       ...      ...        ...    ...        ...         ...   \n",
       "995       99       95  94.000000      A       pass           B   \n",
       "996       55       55  57.333333      F       fail           D   \n",
       "997       71       65  65.000000      D       pass           F   \n",
       "998       78       77  74.333333      C       pass           D   \n",
       "999       86       86  83.000000      B       pass           C   \n",
       "\n",
       "    math_passOrFail read_letter  \n",
       "0              pass           C  \n",
       "1              pass           A  \n",
       "2              pass           A  \n",
       "3              fail           F  \n",
       "4              pass           C  \n",
       "..              ...         ...  \n",
       "995            pass           A  \n",
       "996            pass           F  \n",
       "997            fail           C  \n",
       "998            pass           C  \n",
       "999            pass           B  \n",
       "\n",
       "[1000 rows x 14 columns]"
      ]
     },
     "execution_count": 71,
     "metadata": {},
     "output_type": "execute_result"
    }
   ],
   "source": [
    "data['read_letter'] = data['average']\n",
    "data.loc[(data.reading >= 0),'read_letter']='F'\n",
    "data.loc[(data.reading >= 60),'read_letter']='D'\n",
    "data.loc[(data.reading >= 70),'read_letter']='C'\n",
    "data.loc[(data.reading >= 80),'read_letter']='B'\n",
    "data.loc[(data.reading >= 90),'read_letter']='A'\n",
    "data"
   ]
  },
  {
   "cell_type": "markdown",
   "metadata": {},
   "source": [
    "Splitting the data set into train and test sets, with 30% being test and 70% training, with the values being the first five columns (gender, race, parental education, lunch, and test_prep) and the class being the letter grade for the student's reading test score.\n",
    "\n",
    "Then running KNN for k from 1 to 15 to see what the optimal k values are using the accuracy score."
   ]
  },
  {
   "cell_type": "code",
   "execution_count": 72,
   "metadata": {},
   "outputs": [
    {
     "data": {
      "text/plain": [
       "KNeighborsClassifier(n_neighbors=1)"
      ]
     },
     "execution_count": 72,
     "metadata": {},
     "output_type": "execute_result"
    },
    {
     "name": "stdout",
     "output_type": "stream",
     "text": [
      "Accuracy for k = 1 on the training subset is 0.44857142857142857\n",
      "Accuracy for k = 1 on the test set is 0.21\n"
     ]
    },
    {
     "data": {
      "text/plain": [
       "KNeighborsClassifier(n_neighbors=2)"
      ]
     },
     "execution_count": 72,
     "metadata": {},
     "output_type": "execute_result"
    },
    {
     "name": "stdout",
     "output_type": "stream",
     "text": [
      "Accuracy for k = 2 on the training subset is 0.4157142857142857\n",
      "Accuracy for k = 2 on the test set is 0.23\n"
     ]
    },
    {
     "data": {
      "text/plain": [
       "KNeighborsClassifier(n_neighbors=3)"
      ]
     },
     "execution_count": 72,
     "metadata": {},
     "output_type": "execute_result"
    },
    {
     "name": "stdout",
     "output_type": "stream",
     "text": [
      "Accuracy for k = 3 on the training subset is 0.44285714285714284\n",
      "Accuracy for k = 3 on the test set is 0.22333333333333333\n"
     ]
    },
    {
     "data": {
      "text/plain": [
       "KNeighborsClassifier(n_neighbors=4)"
      ]
     },
     "execution_count": 72,
     "metadata": {},
     "output_type": "execute_result"
    },
    {
     "name": "stdout",
     "output_type": "stream",
     "text": [
      "Accuracy for k = 4 on the training subset is 0.4585714285714286\n",
      "Accuracy for k = 4 on the test set is 0.22333333333333333\n"
     ]
    },
    {
     "data": {
      "text/plain": [
       "KNeighborsClassifier()"
      ]
     },
     "execution_count": 72,
     "metadata": {},
     "output_type": "execute_result"
    },
    {
     "name": "stdout",
     "output_type": "stream",
     "text": [
      "Accuracy for k = 5 on the training subset is 0.45714285714285713\n",
      "Accuracy for k = 5 on the test set is 0.22\n"
     ]
    },
    {
     "data": {
      "text/plain": [
       "KNeighborsClassifier(n_neighbors=6)"
      ]
     },
     "execution_count": 72,
     "metadata": {},
     "output_type": "execute_result"
    },
    {
     "name": "stdout",
     "output_type": "stream",
     "text": [
      "Accuracy for k = 6 on the training subset is 0.4471428571428571\n",
      "Accuracy for k = 6 on the test set is 0.22333333333333333\n"
     ]
    },
    {
     "data": {
      "text/plain": [
       "KNeighborsClassifier(n_neighbors=7)"
      ]
     },
     "execution_count": 72,
     "metadata": {},
     "output_type": "execute_result"
    },
    {
     "name": "stdout",
     "output_type": "stream",
     "text": [
      "Accuracy for k = 7 on the training subset is 0.43857142857142856\n",
      "Accuracy for k = 7 on the test set is 0.25\n"
     ]
    },
    {
     "data": {
      "text/plain": [
       "KNeighborsClassifier(n_neighbors=8)"
      ]
     },
     "execution_count": 72,
     "metadata": {},
     "output_type": "execute_result"
    },
    {
     "name": "stdout",
     "output_type": "stream",
     "text": [
      "Accuracy for k = 8 on the training subset is 0.4228571428571429\n",
      "Accuracy for k = 8 on the test set is 0.25666666666666665\n"
     ]
    },
    {
     "data": {
      "text/plain": [
       "KNeighborsClassifier(n_neighbors=9)"
      ]
     },
     "execution_count": 72,
     "metadata": {},
     "output_type": "execute_result"
    },
    {
     "name": "stdout",
     "output_type": "stream",
     "text": [
      "Accuracy for k = 9 on the training subset is 0.4157142857142857\n",
      "Accuracy for k = 9 on the test set is 0.25666666666666665\n"
     ]
    },
    {
     "data": {
      "text/plain": [
       "KNeighborsClassifier(n_neighbors=10)"
      ]
     },
     "execution_count": 72,
     "metadata": {},
     "output_type": "execute_result"
    },
    {
     "name": "stdout",
     "output_type": "stream",
     "text": [
      "Accuracy for k = 10 on the training subset is 0.4257142857142857\n",
      "Accuracy for k = 10 on the test set is 0.25666666666666665\n"
     ]
    },
    {
     "data": {
      "text/plain": [
       "KNeighborsClassifier(n_neighbors=11)"
      ]
     },
     "execution_count": 72,
     "metadata": {},
     "output_type": "execute_result"
    },
    {
     "name": "stdout",
     "output_type": "stream",
     "text": [
      "Accuracy for k = 11 on the training subset is 0.41714285714285715\n",
      "Accuracy for k = 11 on the test set is 0.24333333333333335\n"
     ]
    },
    {
     "data": {
      "text/plain": [
       "KNeighborsClassifier(n_neighbors=12)"
      ]
     },
     "execution_count": 72,
     "metadata": {},
     "output_type": "execute_result"
    },
    {
     "name": "stdout",
     "output_type": "stream",
     "text": [
      "Accuracy for k = 12 on the training subset is 0.40285714285714286\n",
      "Accuracy for k = 12 on the test set is 0.2733333333333333\n"
     ]
    },
    {
     "data": {
      "text/plain": [
       "KNeighborsClassifier(n_neighbors=13)"
      ]
     },
     "execution_count": 72,
     "metadata": {},
     "output_type": "execute_result"
    },
    {
     "name": "stdout",
     "output_type": "stream",
     "text": [
      "Accuracy for k = 13 on the training subset is 0.4057142857142857\n",
      "Accuracy for k = 13 on the test set is 0.28\n"
     ]
    },
    {
     "data": {
      "text/plain": [
       "KNeighborsClassifier(n_neighbors=14)"
      ]
     },
     "execution_count": 72,
     "metadata": {},
     "output_type": "execute_result"
    },
    {
     "name": "stdout",
     "output_type": "stream",
     "text": [
      "Accuracy for k = 14 on the training subset is 0.38571428571428573\n",
      "Accuracy for k = 14 on the test set is 0.27\n"
     ]
    }
   ],
   "source": [
    "x_train, x_test, y_train, y_test = train_test_split(data.iloc[:, 0:5], data['read_letter'], \n",
    "                                                          test_size=0.3, train_size=0.7, stratify=data['read_letter'])\n",
    "prediction_training = [0] * 15\n",
    "prediction_test = [0] * 15\n",
    "for k in range(1, 15):\n",
    "    knn = KNeighborsClassifier(n_neighbors=k)\n",
    "    knn.fit(x_train, y_train)\n",
    "    prediction_training[k] = knn.predict(x_train)\n",
    "    print(\"Accuracy for k = \" + str(k) + \" on the training subset is \" + str(accuracy_score(y_train, prediction_training[k])))\n",
    "    prediction_test[k] = knn.predict(x_test)\n",
    "    print(\"Accuracy for k = \" + str(k) + \" on the test set is \" + str(accuracy_score(y_test, prediction_test[k])))"
   ]
  },
  {
   "cell_type": "markdown",
   "metadata": {},
   "source": [
    "Running decision tree classifier on this dataset against the letter grade for each student's reading test score, reporting the accuracy on the training and test sets."
   ]
  },
  {
   "cell_type": "code",
   "execution_count": 73,
   "metadata": {},
   "outputs": [
    {
     "data": {
      "text/plain": [
       "DecisionTreeClassifier()"
      ]
     },
     "execution_count": 73,
     "metadata": {},
     "output_type": "execute_result"
    },
    {
     "name": "stdout",
     "output_type": "stream",
     "text": [
      "Accuracy of the decision tree model on the test set: 0.5357142857142857\n",
      "Accuracy of the decision tree model on the test set: 0.2633333333333333\n"
     ]
    }
   ],
   "source": [
    "tree = DecisionTreeClassifier()\n",
    "tree.fit(x_train, y_train)\n",
    "tree_predictions_train = tree.predict(x_train)\n",
    "print(\"Accuracy of the decision tree model on the test set: \" + str(accuracy_score(y_train, tree_predictions_train)))\n",
    "tree_predictions_test = tree.predict(x_test)\n",
    "print(\"Accuracy of the decision tree model on the test set: \" + str(accuracy_score(y_test, tree_predictions_test)))"
   ]
  },
  {
   "cell_type": "markdown",
   "metadata": {},
   "source": [
    "Creating another class variable based on the student's reading test grade, but only splitting into passing or failing rather than letter grades."
   ]
  },
  {
   "cell_type": "code",
   "execution_count": 74,
   "metadata": {},
   "outputs": [
    {
     "data": {
      "text/html": [
       "<div>\n",
       "<style scoped>\n",
       "    .dataframe tbody tr th:only-of-type {\n",
       "        vertical-align: middle;\n",
       "    }\n",
       "\n",
       "    .dataframe tbody tr th {\n",
       "        vertical-align: top;\n",
       "    }\n",
       "\n",
       "    .dataframe thead th {\n",
       "        text-align: right;\n",
       "    }\n",
       "</style>\n",
       "<table border=\"1\" class=\"dataframe\">\n",
       "  <thead>\n",
       "    <tr style=\"text-align: right;\">\n",
       "      <th></th>\n",
       "      <th>gender</th>\n",
       "      <th>race_ethnicity</th>\n",
       "      <th>parental_education</th>\n",
       "      <th>lunch</th>\n",
       "      <th>test_prep</th>\n",
       "      <th>math</th>\n",
       "      <th>reading</th>\n",
       "      <th>writing</th>\n",
       "      <th>average</th>\n",
       "      <th>letter</th>\n",
       "      <th>passOrFail</th>\n",
       "      <th>math_letter</th>\n",
       "      <th>math_passOrFail</th>\n",
       "      <th>read_letter</th>\n",
       "      <th>read_passOrFail</th>\n",
       "    </tr>\n",
       "  </thead>\n",
       "  <tbody>\n",
       "    <tr>\n",
       "      <th>0</th>\n",
       "      <td>0</td>\n",
       "      <td>1</td>\n",
       "      <td>4</td>\n",
       "      <td>0</td>\n",
       "      <td>0</td>\n",
       "      <td>72</td>\n",
       "      <td>72</td>\n",
       "      <td>74</td>\n",
       "      <td>72.666667</td>\n",
       "      <td>C</td>\n",
       "      <td>pass</td>\n",
       "      <td>C</td>\n",
       "      <td>pass</td>\n",
       "      <td>C</td>\n",
       "      <td>pass</td>\n",
       "    </tr>\n",
       "    <tr>\n",
       "      <th>1</th>\n",
       "      <td>0</td>\n",
       "      <td>2</td>\n",
       "      <td>2</td>\n",
       "      <td>0</td>\n",
       "      <td>1</td>\n",
       "      <td>69</td>\n",
       "      <td>90</td>\n",
       "      <td>88</td>\n",
       "      <td>82.333333</td>\n",
       "      <td>B</td>\n",
       "      <td>pass</td>\n",
       "      <td>D</td>\n",
       "      <td>pass</td>\n",
       "      <td>A</td>\n",
       "      <td>pass</td>\n",
       "    </tr>\n",
       "    <tr>\n",
       "      <th>2</th>\n",
       "      <td>0</td>\n",
       "      <td>1</td>\n",
       "      <td>5</td>\n",
       "      <td>0</td>\n",
       "      <td>0</td>\n",
       "      <td>90</td>\n",
       "      <td>95</td>\n",
       "      <td>93</td>\n",
       "      <td>92.666667</td>\n",
       "      <td>A</td>\n",
       "      <td>pass</td>\n",
       "      <td>A</td>\n",
       "      <td>pass</td>\n",
       "      <td>A</td>\n",
       "      <td>pass</td>\n",
       "    </tr>\n",
       "    <tr>\n",
       "      <th>3</th>\n",
       "      <td>1</td>\n",
       "      <td>0</td>\n",
       "      <td>3</td>\n",
       "      <td>1</td>\n",
       "      <td>0</td>\n",
       "      <td>47</td>\n",
       "      <td>57</td>\n",
       "      <td>44</td>\n",
       "      <td>49.333333</td>\n",
       "      <td>F</td>\n",
       "      <td>fail</td>\n",
       "      <td>F</td>\n",
       "      <td>fail</td>\n",
       "      <td>F</td>\n",
       "      <td>fail</td>\n",
       "    </tr>\n",
       "    <tr>\n",
       "      <th>4</th>\n",
       "      <td>1</td>\n",
       "      <td>2</td>\n",
       "      <td>2</td>\n",
       "      <td>0</td>\n",
       "      <td>0</td>\n",
       "      <td>76</td>\n",
       "      <td>78</td>\n",
       "      <td>75</td>\n",
       "      <td>76.333333</td>\n",
       "      <td>C</td>\n",
       "      <td>pass</td>\n",
       "      <td>C</td>\n",
       "      <td>pass</td>\n",
       "      <td>C</td>\n",
       "      <td>pass</td>\n",
       "    </tr>\n",
       "    <tr>\n",
       "      <th>...</th>\n",
       "      <td>...</td>\n",
       "      <td>...</td>\n",
       "      <td>...</td>\n",
       "      <td>...</td>\n",
       "      <td>...</td>\n",
       "      <td>...</td>\n",
       "      <td>...</td>\n",
       "      <td>...</td>\n",
       "      <td>...</td>\n",
       "      <td>...</td>\n",
       "      <td>...</td>\n",
       "      <td>...</td>\n",
       "      <td>...</td>\n",
       "      <td>...</td>\n",
       "      <td>...</td>\n",
       "    </tr>\n",
       "    <tr>\n",
       "      <th>995</th>\n",
       "      <td>0</td>\n",
       "      <td>4</td>\n",
       "      <td>5</td>\n",
       "      <td>0</td>\n",
       "      <td>1</td>\n",
       "      <td>88</td>\n",
       "      <td>99</td>\n",
       "      <td>95</td>\n",
       "      <td>94.000000</td>\n",
       "      <td>A</td>\n",
       "      <td>pass</td>\n",
       "      <td>B</td>\n",
       "      <td>pass</td>\n",
       "      <td>A</td>\n",
       "      <td>pass</td>\n",
       "    </tr>\n",
       "    <tr>\n",
       "      <th>996</th>\n",
       "      <td>1</td>\n",
       "      <td>2</td>\n",
       "      <td>1</td>\n",
       "      <td>1</td>\n",
       "      <td>0</td>\n",
       "      <td>62</td>\n",
       "      <td>55</td>\n",
       "      <td>55</td>\n",
       "      <td>57.333333</td>\n",
       "      <td>F</td>\n",
       "      <td>fail</td>\n",
       "      <td>D</td>\n",
       "      <td>pass</td>\n",
       "      <td>F</td>\n",
       "      <td>fail</td>\n",
       "    </tr>\n",
       "    <tr>\n",
       "      <th>997</th>\n",
       "      <td>0</td>\n",
       "      <td>2</td>\n",
       "      <td>1</td>\n",
       "      <td>1</td>\n",
       "      <td>1</td>\n",
       "      <td>59</td>\n",
       "      <td>71</td>\n",
       "      <td>65</td>\n",
       "      <td>65.000000</td>\n",
       "      <td>D</td>\n",
       "      <td>pass</td>\n",
       "      <td>F</td>\n",
       "      <td>fail</td>\n",
       "      <td>C</td>\n",
       "      <td>pass</td>\n",
       "    </tr>\n",
       "    <tr>\n",
       "      <th>998</th>\n",
       "      <td>0</td>\n",
       "      <td>3</td>\n",
       "      <td>2</td>\n",
       "      <td>0</td>\n",
       "      <td>1</td>\n",
       "      <td>68</td>\n",
       "      <td>78</td>\n",
       "      <td>77</td>\n",
       "      <td>74.333333</td>\n",
       "      <td>C</td>\n",
       "      <td>pass</td>\n",
       "      <td>D</td>\n",
       "      <td>pass</td>\n",
       "      <td>C</td>\n",
       "      <td>pass</td>\n",
       "    </tr>\n",
       "    <tr>\n",
       "      <th>999</th>\n",
       "      <td>0</td>\n",
       "      <td>3</td>\n",
       "      <td>2</td>\n",
       "      <td>1</td>\n",
       "      <td>0</td>\n",
       "      <td>77</td>\n",
       "      <td>86</td>\n",
       "      <td>86</td>\n",
       "      <td>83.000000</td>\n",
       "      <td>B</td>\n",
       "      <td>pass</td>\n",
       "      <td>C</td>\n",
       "      <td>pass</td>\n",
       "      <td>B</td>\n",
       "      <td>pass</td>\n",
       "    </tr>\n",
       "  </tbody>\n",
       "</table>\n",
       "<p>1000 rows × 15 columns</p>\n",
       "</div>"
      ],
      "text/plain": [
       "     gender  race_ethnicity parental_education  lunch  test_prep  math  \\\n",
       "0         0               1                  4      0          0    72   \n",
       "1         0               2                  2      0          1    69   \n",
       "2         0               1                  5      0          0    90   \n",
       "3         1               0                  3      1          0    47   \n",
       "4         1               2                  2      0          0    76   \n",
       "..      ...             ...                ...    ...        ...   ...   \n",
       "995       0               4                  5      0          1    88   \n",
       "996       1               2                  1      1          0    62   \n",
       "997       0               2                  1      1          1    59   \n",
       "998       0               3                  2      0          1    68   \n",
       "999       0               3                  2      1          0    77   \n",
       "\n",
       "     reading  writing    average letter passOrFail math_letter  \\\n",
       "0         72       74  72.666667      C       pass           C   \n",
       "1         90       88  82.333333      B       pass           D   \n",
       "2         95       93  92.666667      A       pass           A   \n",
       "3         57       44  49.333333      F       fail           F   \n",
       "4         78       75  76.333333      C       pass           C   \n",
       "..       ...      ...        ...    ...        ...         ...   \n",
       "995       99       95  94.000000      A       pass           B   \n",
       "996       55       55  57.333333      F       fail           D   \n",
       "997       71       65  65.000000      D       pass           F   \n",
       "998       78       77  74.333333      C       pass           D   \n",
       "999       86       86  83.000000      B       pass           C   \n",
       "\n",
       "    math_passOrFail read_letter read_passOrFail  \n",
       "0              pass           C            pass  \n",
       "1              pass           A            pass  \n",
       "2              pass           A            pass  \n",
       "3              fail           F            fail  \n",
       "4              pass           C            pass  \n",
       "..              ...         ...             ...  \n",
       "995            pass           A            pass  \n",
       "996            pass           F            fail  \n",
       "997            fail           C            pass  \n",
       "998            pass           C            pass  \n",
       "999            pass           B            pass  \n",
       "\n",
       "[1000 rows x 15 columns]"
      ]
     },
     "execution_count": 74,
     "metadata": {},
     "output_type": "execute_result"
    }
   ],
   "source": [
    "data['read_passOrFail'] = data['average']\n",
    "data.loc[(data.reading >= 0),'read_passOrFail']='fail'\n",
    "data.loc[(data.reading >= 60),'read_passOrFail']='pass'\n",
    "data"
   ]
  },
  {
   "cell_type": "markdown",
   "metadata": {},
   "source": [
    "Splitting the data set into train and test sets, with 30% being test and 70% training, with the values being the first five columns (gender, race, parental education, lunch, and test_prep) and the class being whether the student's reading test score is passing or failing.\n",
    "\n",
    "Then running KNN for k from 1 to 15 to see what the optimal k values are using the accuracy score."
   ]
  },
  {
   "cell_type": "code",
   "execution_count": 75,
   "metadata": {},
   "outputs": [
    {
     "data": {
      "text/plain": [
       "KNeighborsClassifier(n_neighbors=1)"
      ]
     },
     "execution_count": 75,
     "metadata": {},
     "output_type": "execute_result"
    },
    {
     "name": "stdout",
     "output_type": "stream",
     "text": [
      "Accuracy for k = 1 on the training subset is 0.77\n",
      "Accuracy for k = 1 on the test set is 0.6466666666666666\n"
     ]
    },
    {
     "data": {
      "text/plain": [
       "KNeighborsClassifier(n_neighbors=2)"
      ]
     },
     "execution_count": 75,
     "metadata": {},
     "output_type": "execute_result"
    },
    {
     "name": "stdout",
     "output_type": "stream",
     "text": [
      "Accuracy for k = 2 on the training subset is 0.7285714285714285\n",
      "Accuracy for k = 2 on the test set is 0.6033333333333334\n"
     ]
    },
    {
     "data": {
      "text/plain": [
       "KNeighborsClassifier(n_neighbors=3)"
      ]
     },
     "execution_count": 75,
     "metadata": {},
     "output_type": "execute_result"
    },
    {
     "name": "stdout",
     "output_type": "stream",
     "text": [
      "Accuracy for k = 3 on the training subset is 0.8028571428571428\n",
      "Accuracy for k = 3 on the test set is 0.6966666666666667\n"
     ]
    },
    {
     "data": {
      "text/plain": [
       "KNeighborsClassifier(n_neighbors=4)"
      ]
     },
     "execution_count": 75,
     "metadata": {},
     "output_type": "execute_result"
    },
    {
     "name": "stdout",
     "output_type": "stream",
     "text": [
      "Accuracy for k = 4 on the training subset is 0.7614285714285715\n",
      "Accuracy for k = 4 on the test set is 0.6733333333333333\n"
     ]
    },
    {
     "data": {
      "text/plain": [
       "KNeighborsClassifier()"
      ]
     },
     "execution_count": 75,
     "metadata": {},
     "output_type": "execute_result"
    },
    {
     "name": "stdout",
     "output_type": "stream",
     "text": [
      "Accuracy for k = 5 on the training subset is 0.78\n",
      "Accuracy for k = 5 on the test set is 0.7033333333333334\n"
     ]
    },
    {
     "data": {
      "text/plain": [
       "KNeighborsClassifier(n_neighbors=6)"
      ]
     },
     "execution_count": 75,
     "metadata": {},
     "output_type": "execute_result"
    },
    {
     "name": "stdout",
     "output_type": "stream",
     "text": [
      "Accuracy for k = 6 on the training subset is 0.7714285714285715\n",
      "Accuracy for k = 6 on the test set is 0.69\n"
     ]
    },
    {
     "data": {
      "text/plain": [
       "KNeighborsClassifier(n_neighbors=7)"
      ]
     },
     "execution_count": 75,
     "metadata": {},
     "output_type": "execute_result"
    },
    {
     "name": "stdout",
     "output_type": "stream",
     "text": [
      "Accuracy for k = 7 on the training subset is 0.7814285714285715\n",
      "Accuracy for k = 7 on the test set is 0.7266666666666667\n"
     ]
    },
    {
     "data": {
      "text/plain": [
       "KNeighborsClassifier(n_neighbors=8)"
      ]
     },
     "execution_count": 75,
     "metadata": {},
     "output_type": "execute_result"
    },
    {
     "name": "stdout",
     "output_type": "stream",
     "text": [
      "Accuracy for k = 8 on the training subset is 0.7742857142857142\n",
      "Accuracy for k = 8 on the test set is 0.6966666666666667\n"
     ]
    },
    {
     "data": {
      "text/plain": [
       "KNeighborsClassifier(n_neighbors=9)"
      ]
     },
     "execution_count": 75,
     "metadata": {},
     "output_type": "execute_result"
    },
    {
     "name": "stdout",
     "output_type": "stream",
     "text": [
      "Accuracy for k = 9 on the training subset is 0.7728571428571429\n",
      "Accuracy for k = 9 on the test set is 0.73\n"
     ]
    },
    {
     "data": {
      "text/plain": [
       "KNeighborsClassifier(n_neighbors=10)"
      ]
     },
     "execution_count": 75,
     "metadata": {},
     "output_type": "execute_result"
    },
    {
     "name": "stdout",
     "output_type": "stream",
     "text": [
      "Accuracy for k = 10 on the training subset is 0.7714285714285715\n",
      "Accuracy for k = 10 on the test set is 0.7166666666666667\n"
     ]
    },
    {
     "data": {
      "text/plain": [
       "KNeighborsClassifier(n_neighbors=11)"
      ]
     },
     "execution_count": 75,
     "metadata": {},
     "output_type": "execute_result"
    },
    {
     "name": "stdout",
     "output_type": "stream",
     "text": [
      "Accuracy for k = 11 on the training subset is 0.7557142857142857\n",
      "Accuracy for k = 11 on the test set is 0.73\n"
     ]
    },
    {
     "data": {
      "text/plain": [
       "KNeighborsClassifier(n_neighbors=12)"
      ]
     },
     "execution_count": 75,
     "metadata": {},
     "output_type": "execute_result"
    },
    {
     "name": "stdout",
     "output_type": "stream",
     "text": [
      "Accuracy for k = 12 on the training subset is 0.7657142857142857\n",
      "Accuracy for k = 12 on the test set is 0.7266666666666667\n"
     ]
    },
    {
     "data": {
      "text/plain": [
       "KNeighborsClassifier(n_neighbors=13)"
      ]
     },
     "execution_count": 75,
     "metadata": {},
     "output_type": "execute_result"
    },
    {
     "name": "stdout",
     "output_type": "stream",
     "text": [
      "Accuracy for k = 13 on the training subset is 0.7714285714285715\n",
      "Accuracy for k = 13 on the test set is 0.74\n"
     ]
    },
    {
     "data": {
      "text/plain": [
       "KNeighborsClassifier(n_neighbors=14)"
      ]
     },
     "execution_count": 75,
     "metadata": {},
     "output_type": "execute_result"
    },
    {
     "name": "stdout",
     "output_type": "stream",
     "text": [
      "Accuracy for k = 14 on the training subset is 0.77\n",
      "Accuracy for k = 14 on the test set is 0.7166666666666667\n"
     ]
    }
   ],
   "source": [
    "x_train, x_test, y_train, y_test = train_test_split(data.iloc[:, 0:5], data['read_passOrFail'], \n",
    "                                                          test_size=0.3, train_size=0.7, stratify=data['read_passOrFail'])\n",
    "prediction_training = [0] * 15\n",
    "prediction_test = [0] * 15\n",
    "for k in range(1, 15):\n",
    "    knn = KNeighborsClassifier(n_neighbors=k)\n",
    "    knn.fit(x_train, y_train)\n",
    "    prediction_training[k] = knn.predict(x_train)\n",
    "    print(\"Accuracy for k = \" + str(k) + \" on the training subset is \" + str(accuracy_score(y_train, prediction_training[k])))\n",
    "    prediction_test[k] = knn.predict(x_test)\n",
    "    print(\"Accuracy for k = \" + str(k) + \" on the test set is \" + str(accuracy_score(y_test, prediction_test[k])))"
   ]
  },
  {
   "cell_type": "markdown",
   "metadata": {},
   "source": [
    "Running decision tree classifier on this dataset against whether each student's reading test score is passing or failing, reporting the accuracy on the training and test sets."
   ]
  },
  {
   "cell_type": "code",
   "execution_count": 76,
   "metadata": {},
   "outputs": [
    {
     "data": {
      "text/plain": [
       "DecisionTreeClassifier()"
      ]
     },
     "execution_count": 76,
     "metadata": {},
     "output_type": "execute_result"
    },
    {
     "name": "stdout",
     "output_type": "stream",
     "text": [
      "Accuracy of the decision tree model on the test set: 0.8114285714285714\n",
      "Accuracy of the decision tree model on the test set: 0.6666666666666666\n"
     ]
    }
   ],
   "source": [
    "tree = DecisionTreeClassifier()\n",
    "tree.fit(x_train, y_train)\n",
    "tree_predictions_train = tree.predict(x_train)\n",
    "print(\"Accuracy of the decision tree model on the test set: \" + str(accuracy_score(y_train, tree_predictions_train)))\n",
    "tree_predictions_test = tree.predict(x_test)\n",
    "print(\"Accuracy of the decision tree model on the test set: \" + str(accuracy_score(y_test, tree_predictions_test)))"
   ]
  },
  {
   "cell_type": "markdown",
   "metadata": {},
   "source": [
    "Making a class variable that has one of 5 possible letter grades depending on the student's writing test score."
   ]
  },
  {
   "cell_type": "code",
   "execution_count": 77,
   "metadata": {},
   "outputs": [
    {
     "data": {
      "text/html": [
       "<div>\n",
       "<style scoped>\n",
       "    .dataframe tbody tr th:only-of-type {\n",
       "        vertical-align: middle;\n",
       "    }\n",
       "\n",
       "    .dataframe tbody tr th {\n",
       "        vertical-align: top;\n",
       "    }\n",
       "\n",
       "    .dataframe thead th {\n",
       "        text-align: right;\n",
       "    }\n",
       "</style>\n",
       "<table border=\"1\" class=\"dataframe\">\n",
       "  <thead>\n",
       "    <tr style=\"text-align: right;\">\n",
       "      <th></th>\n",
       "      <th>gender</th>\n",
       "      <th>race_ethnicity</th>\n",
       "      <th>parental_education</th>\n",
       "      <th>lunch</th>\n",
       "      <th>test_prep</th>\n",
       "      <th>math</th>\n",
       "      <th>reading</th>\n",
       "      <th>writing</th>\n",
       "      <th>average</th>\n",
       "      <th>letter</th>\n",
       "      <th>passOrFail</th>\n",
       "      <th>math_letter</th>\n",
       "      <th>math_passOrFail</th>\n",
       "      <th>read_letter</th>\n",
       "      <th>read_passOrFail</th>\n",
       "      <th>write_letter</th>\n",
       "    </tr>\n",
       "  </thead>\n",
       "  <tbody>\n",
       "    <tr>\n",
       "      <th>0</th>\n",
       "      <td>0</td>\n",
       "      <td>1</td>\n",
       "      <td>4</td>\n",
       "      <td>0</td>\n",
       "      <td>0</td>\n",
       "      <td>72</td>\n",
       "      <td>72</td>\n",
       "      <td>74</td>\n",
       "      <td>72.666667</td>\n",
       "      <td>C</td>\n",
       "      <td>pass</td>\n",
       "      <td>C</td>\n",
       "      <td>pass</td>\n",
       "      <td>C</td>\n",
       "      <td>pass</td>\n",
       "      <td>C</td>\n",
       "    </tr>\n",
       "    <tr>\n",
       "      <th>1</th>\n",
       "      <td>0</td>\n",
       "      <td>2</td>\n",
       "      <td>2</td>\n",
       "      <td>0</td>\n",
       "      <td>1</td>\n",
       "      <td>69</td>\n",
       "      <td>90</td>\n",
       "      <td>88</td>\n",
       "      <td>82.333333</td>\n",
       "      <td>B</td>\n",
       "      <td>pass</td>\n",
       "      <td>D</td>\n",
       "      <td>pass</td>\n",
       "      <td>A</td>\n",
       "      <td>pass</td>\n",
       "      <td>B</td>\n",
       "    </tr>\n",
       "    <tr>\n",
       "      <th>2</th>\n",
       "      <td>0</td>\n",
       "      <td>1</td>\n",
       "      <td>5</td>\n",
       "      <td>0</td>\n",
       "      <td>0</td>\n",
       "      <td>90</td>\n",
       "      <td>95</td>\n",
       "      <td>93</td>\n",
       "      <td>92.666667</td>\n",
       "      <td>A</td>\n",
       "      <td>pass</td>\n",
       "      <td>A</td>\n",
       "      <td>pass</td>\n",
       "      <td>A</td>\n",
       "      <td>pass</td>\n",
       "      <td>A</td>\n",
       "    </tr>\n",
       "    <tr>\n",
       "      <th>3</th>\n",
       "      <td>1</td>\n",
       "      <td>0</td>\n",
       "      <td>3</td>\n",
       "      <td>1</td>\n",
       "      <td>0</td>\n",
       "      <td>47</td>\n",
       "      <td>57</td>\n",
       "      <td>44</td>\n",
       "      <td>49.333333</td>\n",
       "      <td>F</td>\n",
       "      <td>fail</td>\n",
       "      <td>F</td>\n",
       "      <td>fail</td>\n",
       "      <td>F</td>\n",
       "      <td>fail</td>\n",
       "      <td>F</td>\n",
       "    </tr>\n",
       "    <tr>\n",
       "      <th>4</th>\n",
       "      <td>1</td>\n",
       "      <td>2</td>\n",
       "      <td>2</td>\n",
       "      <td>0</td>\n",
       "      <td>0</td>\n",
       "      <td>76</td>\n",
       "      <td>78</td>\n",
       "      <td>75</td>\n",
       "      <td>76.333333</td>\n",
       "      <td>C</td>\n",
       "      <td>pass</td>\n",
       "      <td>C</td>\n",
       "      <td>pass</td>\n",
       "      <td>C</td>\n",
       "      <td>pass</td>\n",
       "      <td>C</td>\n",
       "    </tr>\n",
       "    <tr>\n",
       "      <th>...</th>\n",
       "      <td>...</td>\n",
       "      <td>...</td>\n",
       "      <td>...</td>\n",
       "      <td>...</td>\n",
       "      <td>...</td>\n",
       "      <td>...</td>\n",
       "      <td>...</td>\n",
       "      <td>...</td>\n",
       "      <td>...</td>\n",
       "      <td>...</td>\n",
       "      <td>...</td>\n",
       "      <td>...</td>\n",
       "      <td>...</td>\n",
       "      <td>...</td>\n",
       "      <td>...</td>\n",
       "      <td>...</td>\n",
       "    </tr>\n",
       "    <tr>\n",
       "      <th>995</th>\n",
       "      <td>0</td>\n",
       "      <td>4</td>\n",
       "      <td>5</td>\n",
       "      <td>0</td>\n",
       "      <td>1</td>\n",
       "      <td>88</td>\n",
       "      <td>99</td>\n",
       "      <td>95</td>\n",
       "      <td>94.000000</td>\n",
       "      <td>A</td>\n",
       "      <td>pass</td>\n",
       "      <td>B</td>\n",
       "      <td>pass</td>\n",
       "      <td>A</td>\n",
       "      <td>pass</td>\n",
       "      <td>A</td>\n",
       "    </tr>\n",
       "    <tr>\n",
       "      <th>996</th>\n",
       "      <td>1</td>\n",
       "      <td>2</td>\n",
       "      <td>1</td>\n",
       "      <td>1</td>\n",
       "      <td>0</td>\n",
       "      <td>62</td>\n",
       "      <td>55</td>\n",
       "      <td>55</td>\n",
       "      <td>57.333333</td>\n",
       "      <td>F</td>\n",
       "      <td>fail</td>\n",
       "      <td>D</td>\n",
       "      <td>pass</td>\n",
       "      <td>F</td>\n",
       "      <td>fail</td>\n",
       "      <td>F</td>\n",
       "    </tr>\n",
       "    <tr>\n",
       "      <th>997</th>\n",
       "      <td>0</td>\n",
       "      <td>2</td>\n",
       "      <td>1</td>\n",
       "      <td>1</td>\n",
       "      <td>1</td>\n",
       "      <td>59</td>\n",
       "      <td>71</td>\n",
       "      <td>65</td>\n",
       "      <td>65.000000</td>\n",
       "      <td>D</td>\n",
       "      <td>pass</td>\n",
       "      <td>F</td>\n",
       "      <td>fail</td>\n",
       "      <td>C</td>\n",
       "      <td>pass</td>\n",
       "      <td>D</td>\n",
       "    </tr>\n",
       "    <tr>\n",
       "      <th>998</th>\n",
       "      <td>0</td>\n",
       "      <td>3</td>\n",
       "      <td>2</td>\n",
       "      <td>0</td>\n",
       "      <td>1</td>\n",
       "      <td>68</td>\n",
       "      <td>78</td>\n",
       "      <td>77</td>\n",
       "      <td>74.333333</td>\n",
       "      <td>C</td>\n",
       "      <td>pass</td>\n",
       "      <td>D</td>\n",
       "      <td>pass</td>\n",
       "      <td>C</td>\n",
       "      <td>pass</td>\n",
       "      <td>C</td>\n",
       "    </tr>\n",
       "    <tr>\n",
       "      <th>999</th>\n",
       "      <td>0</td>\n",
       "      <td>3</td>\n",
       "      <td>2</td>\n",
       "      <td>1</td>\n",
       "      <td>0</td>\n",
       "      <td>77</td>\n",
       "      <td>86</td>\n",
       "      <td>86</td>\n",
       "      <td>83.000000</td>\n",
       "      <td>B</td>\n",
       "      <td>pass</td>\n",
       "      <td>C</td>\n",
       "      <td>pass</td>\n",
       "      <td>B</td>\n",
       "      <td>pass</td>\n",
       "      <td>B</td>\n",
       "    </tr>\n",
       "  </tbody>\n",
       "</table>\n",
       "<p>1000 rows × 16 columns</p>\n",
       "</div>"
      ],
      "text/plain": [
       "     gender  race_ethnicity parental_education  lunch  test_prep  math  \\\n",
       "0         0               1                  4      0          0    72   \n",
       "1         0               2                  2      0          1    69   \n",
       "2         0               1                  5      0          0    90   \n",
       "3         1               0                  3      1          0    47   \n",
       "4         1               2                  2      0          0    76   \n",
       "..      ...             ...                ...    ...        ...   ...   \n",
       "995       0               4                  5      0          1    88   \n",
       "996       1               2                  1      1          0    62   \n",
       "997       0               2                  1      1          1    59   \n",
       "998       0               3                  2      0          1    68   \n",
       "999       0               3                  2      1          0    77   \n",
       "\n",
       "     reading  writing    average letter passOrFail math_letter  \\\n",
       "0         72       74  72.666667      C       pass           C   \n",
       "1         90       88  82.333333      B       pass           D   \n",
       "2         95       93  92.666667      A       pass           A   \n",
       "3         57       44  49.333333      F       fail           F   \n",
       "4         78       75  76.333333      C       pass           C   \n",
       "..       ...      ...        ...    ...        ...         ...   \n",
       "995       99       95  94.000000      A       pass           B   \n",
       "996       55       55  57.333333      F       fail           D   \n",
       "997       71       65  65.000000      D       pass           F   \n",
       "998       78       77  74.333333      C       pass           D   \n",
       "999       86       86  83.000000      B       pass           C   \n",
       "\n",
       "    math_passOrFail read_letter read_passOrFail write_letter  \n",
       "0              pass           C            pass            C  \n",
       "1              pass           A            pass            B  \n",
       "2              pass           A            pass            A  \n",
       "3              fail           F            fail            F  \n",
       "4              pass           C            pass            C  \n",
       "..              ...         ...             ...          ...  \n",
       "995            pass           A            pass            A  \n",
       "996            pass           F            fail            F  \n",
       "997            fail           C            pass            D  \n",
       "998            pass           C            pass            C  \n",
       "999            pass           B            pass            B  \n",
       "\n",
       "[1000 rows x 16 columns]"
      ]
     },
     "execution_count": 77,
     "metadata": {},
     "output_type": "execute_result"
    }
   ],
   "source": [
    "data['write_letter'] = data['average']\n",
    "data.loc[(data.writing >= 0),'write_letter']='F'\n",
    "data.loc[(data.writing >= 60),'write_letter']='D'\n",
    "data.loc[(data.writing >= 70),'write_letter']='C'\n",
    "data.loc[(data.writing >= 80),'write_letter']='B'\n",
    "data.loc[(data.writing >= 90),'write_letter']='A'\n",
    "data"
   ]
  },
  {
   "cell_type": "markdown",
   "metadata": {},
   "source": [
    "Splitting the data set into train and test sets, with 30% being test and 70% training, with the values being the first five columns (gender, race, parental education, lunch, and test_prep) and the class being the letter grade for the student's writing test score.\n",
    "\n",
    "Then running KNN for k from 1 to 15 to see what the optimal k values are using the accuracy score."
   ]
  },
  {
   "cell_type": "code",
   "execution_count": 78,
   "metadata": {},
   "outputs": [
    {
     "data": {
      "text/plain": [
       "KNeighborsClassifier(n_neighbors=1)"
      ]
     },
     "execution_count": 78,
     "metadata": {},
     "output_type": "execute_result"
    },
    {
     "name": "stdout",
     "output_type": "stream",
     "text": [
      "Accuracy for k = 1 on the training subset is 0.48714285714285716\n",
      "Accuracy for k = 1 on the test set is 0.27666666666666667\n"
     ]
    },
    {
     "data": {
      "text/plain": [
       "KNeighborsClassifier(n_neighbors=2)"
      ]
     },
     "execution_count": 78,
     "metadata": {},
     "output_type": "execute_result"
    },
    {
     "name": "stdout",
     "output_type": "stream",
     "text": [
      "Accuracy for k = 2 on the training subset is 0.46285714285714286\n",
      "Accuracy for k = 2 on the test set is 0.26666666666666666\n"
     ]
    },
    {
     "data": {
      "text/plain": [
       "KNeighborsClassifier(n_neighbors=3)"
      ]
     },
     "execution_count": 78,
     "metadata": {},
     "output_type": "execute_result"
    },
    {
     "name": "stdout",
     "output_type": "stream",
     "text": [
      "Accuracy for k = 3 on the training subset is 0.4828571428571429\n",
      "Accuracy for k = 3 on the test set is 0.24666666666666667\n"
     ]
    },
    {
     "data": {
      "text/plain": [
       "KNeighborsClassifier(n_neighbors=4)"
      ]
     },
     "execution_count": 78,
     "metadata": {},
     "output_type": "execute_result"
    },
    {
     "name": "stdout",
     "output_type": "stream",
     "text": [
      "Accuracy for k = 4 on the training subset is 0.4928571428571429\n",
      "Accuracy for k = 4 on the test set is 0.27\n"
     ]
    },
    {
     "data": {
      "text/plain": [
       "KNeighborsClassifier()"
      ]
     },
     "execution_count": 78,
     "metadata": {},
     "output_type": "execute_result"
    },
    {
     "name": "stdout",
     "output_type": "stream",
     "text": [
      "Accuracy for k = 5 on the training subset is 0.48857142857142855\n",
      "Accuracy for k = 5 on the test set is 0.2833333333333333\n"
     ]
    },
    {
     "data": {
      "text/plain": [
       "KNeighborsClassifier(n_neighbors=6)"
      ]
     },
     "execution_count": 78,
     "metadata": {},
     "output_type": "execute_result"
    },
    {
     "name": "stdout",
     "output_type": "stream",
     "text": [
      "Accuracy for k = 6 on the training subset is 0.4757142857142857\n",
      "Accuracy for k = 6 on the test set is 0.2833333333333333\n"
     ]
    },
    {
     "data": {
      "text/plain": [
       "KNeighborsClassifier(n_neighbors=7)"
      ]
     },
     "execution_count": 78,
     "metadata": {},
     "output_type": "execute_result"
    },
    {
     "name": "stdout",
     "output_type": "stream",
     "text": [
      "Accuracy for k = 7 on the training subset is 0.4757142857142857\n",
      "Accuracy for k = 7 on the test set is 0.29333333333333333\n"
     ]
    },
    {
     "data": {
      "text/plain": [
       "KNeighborsClassifier(n_neighbors=8)"
      ]
     },
     "execution_count": 78,
     "metadata": {},
     "output_type": "execute_result"
    },
    {
     "name": "stdout",
     "output_type": "stream",
     "text": [
      "Accuracy for k = 8 on the training subset is 0.4757142857142857\n",
      "Accuracy for k = 8 on the test set is 0.28\n"
     ]
    },
    {
     "data": {
      "text/plain": [
       "KNeighborsClassifier(n_neighbors=9)"
      ]
     },
     "execution_count": 78,
     "metadata": {},
     "output_type": "execute_result"
    },
    {
     "name": "stdout",
     "output_type": "stream",
     "text": [
      "Accuracy for k = 9 on the training subset is 0.4614285714285714\n",
      "Accuracy for k = 9 on the test set is 0.2833333333333333\n"
     ]
    },
    {
     "data": {
      "text/plain": [
       "KNeighborsClassifier(n_neighbors=10)"
      ]
     },
     "execution_count": 78,
     "metadata": {},
     "output_type": "execute_result"
    },
    {
     "name": "stdout",
     "output_type": "stream",
     "text": [
      "Accuracy for k = 10 on the training subset is 0.4657142857142857\n",
      "Accuracy for k = 10 on the test set is 0.2833333333333333\n"
     ]
    },
    {
     "data": {
      "text/plain": [
       "KNeighborsClassifier(n_neighbors=11)"
      ]
     },
     "execution_count": 78,
     "metadata": {},
     "output_type": "execute_result"
    },
    {
     "name": "stdout",
     "output_type": "stream",
     "text": [
      "Accuracy for k = 11 on the training subset is 0.4471428571428571\n",
      "Accuracy for k = 11 on the test set is 0.31\n"
     ]
    },
    {
     "data": {
      "text/plain": [
       "KNeighborsClassifier(n_neighbors=12)"
      ]
     },
     "execution_count": 78,
     "metadata": {},
     "output_type": "execute_result"
    },
    {
     "name": "stdout",
     "output_type": "stream",
     "text": [
      "Accuracy for k = 12 on the training subset is 0.44571428571428573\n",
      "Accuracy for k = 12 on the test set is 0.31666666666666665\n"
     ]
    },
    {
     "data": {
      "text/plain": [
       "KNeighborsClassifier(n_neighbors=13)"
      ]
     },
     "execution_count": 78,
     "metadata": {},
     "output_type": "execute_result"
    },
    {
     "name": "stdout",
     "output_type": "stream",
     "text": [
      "Accuracy for k = 13 on the training subset is 0.43142857142857144\n",
      "Accuracy for k = 13 on the test set is 0.31666666666666665\n"
     ]
    },
    {
     "data": {
      "text/plain": [
       "KNeighborsClassifier(n_neighbors=14)"
      ]
     },
     "execution_count": 78,
     "metadata": {},
     "output_type": "execute_result"
    },
    {
     "name": "stdout",
     "output_type": "stream",
     "text": [
      "Accuracy for k = 14 on the training subset is 0.42714285714285716\n",
      "Accuracy for k = 14 on the test set is 0.2966666666666667\n"
     ]
    }
   ],
   "source": [
    "x_train, x_test, y_train, y_test = train_test_split(data.iloc[:, 0:5], data['write_letter'], \n",
    "                                                          test_size=0.3, train_size=0.7, stratify=data['write_letter'])\n",
    "prediction_training = [0] * 15\n",
    "prediction_test = [0] * 15\n",
    "for k in range(1, 15):\n",
    "    knn = KNeighborsClassifier(n_neighbors=k)\n",
    "    knn.fit(x_train, y_train)\n",
    "    prediction_training[k] = knn.predict(x_train)\n",
    "    print(\"Accuracy for k = \" + str(k) + \" on the training subset is \" + str(accuracy_score(y_train, prediction_training[k])))\n",
    "    prediction_test[k] = knn.predict(x_test)\n",
    "    print(\"Accuracy for k = \" + str(k) + \" on the test set is \" + str(accuracy_score(y_test, prediction_test[k])))"
   ]
  },
  {
   "cell_type": "markdown",
   "metadata": {},
   "source": [
    "Running decision tree classifier on this dataset against the letter grade for each student's writing test score, reporting the accuracy on the training and test sets."
   ]
  },
  {
   "cell_type": "code",
   "execution_count": 79,
   "metadata": {},
   "outputs": [
    {
     "data": {
      "text/plain": [
       "DecisionTreeClassifier()"
      ]
     },
     "execution_count": 79,
     "metadata": {},
     "output_type": "execute_result"
    },
    {
     "name": "stdout",
     "output_type": "stream",
     "text": [
      "Accuracy of the decision tree model on the test set: 0.5557142857142857\n",
      "Accuracy of the decision tree model on the test set: 0.2733333333333333\n"
     ]
    }
   ],
   "source": [
    "tree = DecisionTreeClassifier()\n",
    "tree.fit(x_train, y_train)\n",
    "tree_predictions_train = tree.predict(x_train)\n",
    "print(\"Accuracy of the decision tree model on the test set: \" + str(accuracy_score(y_train, tree_predictions_train)))\n",
    "tree_predictions_test = tree.predict(x_test)\n",
    "print(\"Accuracy of the decision tree model on the test set: \" + str(accuracy_score(y_test, tree_predictions_test)))"
   ]
  },
  {
   "cell_type": "markdown",
   "metadata": {},
   "source": [
    "Creating another class variable based on the student's writing test grade, but only splitting into passing or failing rather than letter grades."
   ]
  },
  {
   "cell_type": "code",
   "execution_count": 80,
   "metadata": {},
   "outputs": [
    {
     "data": {
      "text/html": [
       "<div>\n",
       "<style scoped>\n",
       "    .dataframe tbody tr th:only-of-type {\n",
       "        vertical-align: middle;\n",
       "    }\n",
       "\n",
       "    .dataframe tbody tr th {\n",
       "        vertical-align: top;\n",
       "    }\n",
       "\n",
       "    .dataframe thead th {\n",
       "        text-align: right;\n",
       "    }\n",
       "</style>\n",
       "<table border=\"1\" class=\"dataframe\">\n",
       "  <thead>\n",
       "    <tr style=\"text-align: right;\">\n",
       "      <th></th>\n",
       "      <th>gender</th>\n",
       "      <th>race_ethnicity</th>\n",
       "      <th>parental_education</th>\n",
       "      <th>lunch</th>\n",
       "      <th>test_prep</th>\n",
       "      <th>math</th>\n",
       "      <th>reading</th>\n",
       "      <th>writing</th>\n",
       "      <th>average</th>\n",
       "      <th>letter</th>\n",
       "      <th>passOrFail</th>\n",
       "      <th>math_letter</th>\n",
       "      <th>math_passOrFail</th>\n",
       "      <th>read_letter</th>\n",
       "      <th>read_passOrFail</th>\n",
       "      <th>write_letter</th>\n",
       "      <th>write_passOrFail</th>\n",
       "    </tr>\n",
       "  </thead>\n",
       "  <tbody>\n",
       "    <tr>\n",
       "      <th>0</th>\n",
       "      <td>0</td>\n",
       "      <td>1</td>\n",
       "      <td>4</td>\n",
       "      <td>0</td>\n",
       "      <td>0</td>\n",
       "      <td>72</td>\n",
       "      <td>72</td>\n",
       "      <td>74</td>\n",
       "      <td>72.666667</td>\n",
       "      <td>C</td>\n",
       "      <td>pass</td>\n",
       "      <td>C</td>\n",
       "      <td>pass</td>\n",
       "      <td>C</td>\n",
       "      <td>pass</td>\n",
       "      <td>C</td>\n",
       "      <td>pass</td>\n",
       "    </tr>\n",
       "    <tr>\n",
       "      <th>1</th>\n",
       "      <td>0</td>\n",
       "      <td>2</td>\n",
       "      <td>2</td>\n",
       "      <td>0</td>\n",
       "      <td>1</td>\n",
       "      <td>69</td>\n",
       "      <td>90</td>\n",
       "      <td>88</td>\n",
       "      <td>82.333333</td>\n",
       "      <td>B</td>\n",
       "      <td>pass</td>\n",
       "      <td>D</td>\n",
       "      <td>pass</td>\n",
       "      <td>A</td>\n",
       "      <td>pass</td>\n",
       "      <td>B</td>\n",
       "      <td>pass</td>\n",
       "    </tr>\n",
       "    <tr>\n",
       "      <th>2</th>\n",
       "      <td>0</td>\n",
       "      <td>1</td>\n",
       "      <td>5</td>\n",
       "      <td>0</td>\n",
       "      <td>0</td>\n",
       "      <td>90</td>\n",
       "      <td>95</td>\n",
       "      <td>93</td>\n",
       "      <td>92.666667</td>\n",
       "      <td>A</td>\n",
       "      <td>pass</td>\n",
       "      <td>A</td>\n",
       "      <td>pass</td>\n",
       "      <td>A</td>\n",
       "      <td>pass</td>\n",
       "      <td>A</td>\n",
       "      <td>pass</td>\n",
       "    </tr>\n",
       "    <tr>\n",
       "      <th>3</th>\n",
       "      <td>1</td>\n",
       "      <td>0</td>\n",
       "      <td>3</td>\n",
       "      <td>1</td>\n",
       "      <td>0</td>\n",
       "      <td>47</td>\n",
       "      <td>57</td>\n",
       "      <td>44</td>\n",
       "      <td>49.333333</td>\n",
       "      <td>F</td>\n",
       "      <td>fail</td>\n",
       "      <td>F</td>\n",
       "      <td>fail</td>\n",
       "      <td>F</td>\n",
       "      <td>fail</td>\n",
       "      <td>F</td>\n",
       "      <td>fail</td>\n",
       "    </tr>\n",
       "    <tr>\n",
       "      <th>4</th>\n",
       "      <td>1</td>\n",
       "      <td>2</td>\n",
       "      <td>2</td>\n",
       "      <td>0</td>\n",
       "      <td>0</td>\n",
       "      <td>76</td>\n",
       "      <td>78</td>\n",
       "      <td>75</td>\n",
       "      <td>76.333333</td>\n",
       "      <td>C</td>\n",
       "      <td>pass</td>\n",
       "      <td>C</td>\n",
       "      <td>pass</td>\n",
       "      <td>C</td>\n",
       "      <td>pass</td>\n",
       "      <td>C</td>\n",
       "      <td>pass</td>\n",
       "    </tr>\n",
       "    <tr>\n",
       "      <th>...</th>\n",
       "      <td>...</td>\n",
       "      <td>...</td>\n",
       "      <td>...</td>\n",
       "      <td>...</td>\n",
       "      <td>...</td>\n",
       "      <td>...</td>\n",
       "      <td>...</td>\n",
       "      <td>...</td>\n",
       "      <td>...</td>\n",
       "      <td>...</td>\n",
       "      <td>...</td>\n",
       "      <td>...</td>\n",
       "      <td>...</td>\n",
       "      <td>...</td>\n",
       "      <td>...</td>\n",
       "      <td>...</td>\n",
       "      <td>...</td>\n",
       "    </tr>\n",
       "    <tr>\n",
       "      <th>995</th>\n",
       "      <td>0</td>\n",
       "      <td>4</td>\n",
       "      <td>5</td>\n",
       "      <td>0</td>\n",
       "      <td>1</td>\n",
       "      <td>88</td>\n",
       "      <td>99</td>\n",
       "      <td>95</td>\n",
       "      <td>94.000000</td>\n",
       "      <td>A</td>\n",
       "      <td>pass</td>\n",
       "      <td>B</td>\n",
       "      <td>pass</td>\n",
       "      <td>A</td>\n",
       "      <td>pass</td>\n",
       "      <td>A</td>\n",
       "      <td>pass</td>\n",
       "    </tr>\n",
       "    <tr>\n",
       "      <th>996</th>\n",
       "      <td>1</td>\n",
       "      <td>2</td>\n",
       "      <td>1</td>\n",
       "      <td>1</td>\n",
       "      <td>0</td>\n",
       "      <td>62</td>\n",
       "      <td>55</td>\n",
       "      <td>55</td>\n",
       "      <td>57.333333</td>\n",
       "      <td>F</td>\n",
       "      <td>fail</td>\n",
       "      <td>D</td>\n",
       "      <td>pass</td>\n",
       "      <td>F</td>\n",
       "      <td>fail</td>\n",
       "      <td>F</td>\n",
       "      <td>fail</td>\n",
       "    </tr>\n",
       "    <tr>\n",
       "      <th>997</th>\n",
       "      <td>0</td>\n",
       "      <td>2</td>\n",
       "      <td>1</td>\n",
       "      <td>1</td>\n",
       "      <td>1</td>\n",
       "      <td>59</td>\n",
       "      <td>71</td>\n",
       "      <td>65</td>\n",
       "      <td>65.000000</td>\n",
       "      <td>D</td>\n",
       "      <td>pass</td>\n",
       "      <td>F</td>\n",
       "      <td>fail</td>\n",
       "      <td>C</td>\n",
       "      <td>pass</td>\n",
       "      <td>D</td>\n",
       "      <td>pass</td>\n",
       "    </tr>\n",
       "    <tr>\n",
       "      <th>998</th>\n",
       "      <td>0</td>\n",
       "      <td>3</td>\n",
       "      <td>2</td>\n",
       "      <td>0</td>\n",
       "      <td>1</td>\n",
       "      <td>68</td>\n",
       "      <td>78</td>\n",
       "      <td>77</td>\n",
       "      <td>74.333333</td>\n",
       "      <td>C</td>\n",
       "      <td>pass</td>\n",
       "      <td>D</td>\n",
       "      <td>pass</td>\n",
       "      <td>C</td>\n",
       "      <td>pass</td>\n",
       "      <td>C</td>\n",
       "      <td>pass</td>\n",
       "    </tr>\n",
       "    <tr>\n",
       "      <th>999</th>\n",
       "      <td>0</td>\n",
       "      <td>3</td>\n",
       "      <td>2</td>\n",
       "      <td>1</td>\n",
       "      <td>0</td>\n",
       "      <td>77</td>\n",
       "      <td>86</td>\n",
       "      <td>86</td>\n",
       "      <td>83.000000</td>\n",
       "      <td>B</td>\n",
       "      <td>pass</td>\n",
       "      <td>C</td>\n",
       "      <td>pass</td>\n",
       "      <td>B</td>\n",
       "      <td>pass</td>\n",
       "      <td>B</td>\n",
       "      <td>pass</td>\n",
       "    </tr>\n",
       "  </tbody>\n",
       "</table>\n",
       "<p>1000 rows × 17 columns</p>\n",
       "</div>"
      ],
      "text/plain": [
       "     gender  race_ethnicity parental_education  lunch  test_prep  math  \\\n",
       "0         0               1                  4      0          0    72   \n",
       "1         0               2                  2      0          1    69   \n",
       "2         0               1                  5      0          0    90   \n",
       "3         1               0                  3      1          0    47   \n",
       "4         1               2                  2      0          0    76   \n",
       "..      ...             ...                ...    ...        ...   ...   \n",
       "995       0               4                  5      0          1    88   \n",
       "996       1               2                  1      1          0    62   \n",
       "997       0               2                  1      1          1    59   \n",
       "998       0               3                  2      0          1    68   \n",
       "999       0               3                  2      1          0    77   \n",
       "\n",
       "     reading  writing    average letter passOrFail math_letter  \\\n",
       "0         72       74  72.666667      C       pass           C   \n",
       "1         90       88  82.333333      B       pass           D   \n",
       "2         95       93  92.666667      A       pass           A   \n",
       "3         57       44  49.333333      F       fail           F   \n",
       "4         78       75  76.333333      C       pass           C   \n",
       "..       ...      ...        ...    ...        ...         ...   \n",
       "995       99       95  94.000000      A       pass           B   \n",
       "996       55       55  57.333333      F       fail           D   \n",
       "997       71       65  65.000000      D       pass           F   \n",
       "998       78       77  74.333333      C       pass           D   \n",
       "999       86       86  83.000000      B       pass           C   \n",
       "\n",
       "    math_passOrFail read_letter read_passOrFail write_letter write_passOrFail  \n",
       "0              pass           C            pass            C             pass  \n",
       "1              pass           A            pass            B             pass  \n",
       "2              pass           A            pass            A             pass  \n",
       "3              fail           F            fail            F             fail  \n",
       "4              pass           C            pass            C             pass  \n",
       "..              ...         ...             ...          ...              ...  \n",
       "995            pass           A            pass            A             pass  \n",
       "996            pass           F            fail            F             fail  \n",
       "997            fail           C            pass            D             pass  \n",
       "998            pass           C            pass            C             pass  \n",
       "999            pass           B            pass            B             pass  \n",
       "\n",
       "[1000 rows x 17 columns]"
      ]
     },
     "execution_count": 80,
     "metadata": {},
     "output_type": "execute_result"
    }
   ],
   "source": [
    "data['write_passOrFail'] = data['average']\n",
    "data.loc[(data.writing >= 0),'write_passOrFail']='fail'\n",
    "data.loc[(data.writing >= 60),'write_passOrFail']='pass'\n",
    "data"
   ]
  },
  {
   "cell_type": "markdown",
   "metadata": {},
   "source": [
    "Splitting the data set into train and test sets, with 30% being test and 70% training, with the values being the first five columns (gender, race, parental education, lunch, and test_prep) and the class being whether the student's writing test score is passing or failing.\n",
    "\n",
    "Then running KNN for k from 1 to 15 to see what the optimal k values are using the accuracy score."
   ]
  },
  {
   "cell_type": "code",
   "execution_count": 81,
   "metadata": {},
   "outputs": [
    {
     "data": {
      "text/plain": [
       "KNeighborsClassifier(n_neighbors=1)"
      ]
     },
     "execution_count": 81,
     "metadata": {},
     "output_type": "execute_result"
    },
    {
     "name": "stdout",
     "output_type": "stream",
     "text": [
      "Accuracy for k = 1 on the training subset is 0.7728571428571429\n",
      "Accuracy for k = 1 on the test set is 0.6633333333333333\n"
     ]
    },
    {
     "data": {
      "text/plain": [
       "KNeighborsClassifier(n_neighbors=2)"
      ]
     },
     "execution_count": 81,
     "metadata": {},
     "output_type": "execute_result"
    },
    {
     "name": "stdout",
     "output_type": "stream",
     "text": [
      "Accuracy for k = 2 on the training subset is 0.7342857142857143\n",
      "Accuracy for k = 2 on the test set is 0.6233333333333333\n"
     ]
    },
    {
     "data": {
      "text/plain": [
       "KNeighborsClassifier(n_neighbors=3)"
      ]
     },
     "execution_count": 81,
     "metadata": {},
     "output_type": "execute_result"
    },
    {
     "name": "stdout",
     "output_type": "stream",
     "text": [
      "Accuracy for k = 3 on the training subset is 0.7914285714285715\n",
      "Accuracy for k = 3 on the test set is 0.7\n"
     ]
    },
    {
     "data": {
      "text/plain": [
       "KNeighborsClassifier(n_neighbors=4)"
      ]
     },
     "execution_count": 81,
     "metadata": {},
     "output_type": "execute_result"
    },
    {
     "name": "stdout",
     "output_type": "stream",
     "text": [
      "Accuracy for k = 4 on the training subset is 0.78\n",
      "Accuracy for k = 4 on the test set is 0.6866666666666666\n"
     ]
    },
    {
     "data": {
      "text/plain": [
       "KNeighborsClassifier()"
      ]
     },
     "execution_count": 81,
     "metadata": {},
     "output_type": "execute_result"
    },
    {
     "name": "stdout",
     "output_type": "stream",
     "text": [
      "Accuracy for k = 5 on the training subset is 0.79\n",
      "Accuracy for k = 5 on the test set is 0.7333333333333333\n"
     ]
    },
    {
     "data": {
      "text/plain": [
       "KNeighborsClassifier(n_neighbors=6)"
      ]
     },
     "execution_count": 81,
     "metadata": {},
     "output_type": "execute_result"
    },
    {
     "name": "stdout",
     "output_type": "stream",
     "text": [
      "Accuracy for k = 6 on the training subset is 0.7785714285714286\n",
      "Accuracy for k = 6 on the test set is 0.7166666666666667\n"
     ]
    },
    {
     "data": {
      "text/plain": [
       "KNeighborsClassifier(n_neighbors=7)"
      ]
     },
     "execution_count": 81,
     "metadata": {},
     "output_type": "execute_result"
    },
    {
     "name": "stdout",
     "output_type": "stream",
     "text": [
      "Accuracy for k = 7 on the training subset is 0.7728571428571429\n",
      "Accuracy for k = 7 on the test set is 0.7233333333333334\n"
     ]
    },
    {
     "data": {
      "text/plain": [
       "KNeighborsClassifier(n_neighbors=8)"
      ]
     },
     "execution_count": 81,
     "metadata": {},
     "output_type": "execute_result"
    },
    {
     "name": "stdout",
     "output_type": "stream",
     "text": [
      "Accuracy for k = 8 on the training subset is 0.7742857142857142\n",
      "Accuracy for k = 8 on the test set is 0.7266666666666667\n"
     ]
    },
    {
     "data": {
      "text/plain": [
       "KNeighborsClassifier(n_neighbors=9)"
      ]
     },
     "execution_count": 81,
     "metadata": {},
     "output_type": "execute_result"
    },
    {
     "name": "stdout",
     "output_type": "stream",
     "text": [
      "Accuracy for k = 9 on the training subset is 0.7771428571428571\n",
      "Accuracy for k = 9 on the test set is 0.7266666666666667\n"
     ]
    },
    {
     "data": {
      "text/plain": [
       "KNeighborsClassifier(n_neighbors=10)"
      ]
     },
     "execution_count": 81,
     "metadata": {},
     "output_type": "execute_result"
    },
    {
     "name": "stdout",
     "output_type": "stream",
     "text": [
      "Accuracy for k = 10 on the training subset is 0.7771428571428571\n",
      "Accuracy for k = 10 on the test set is 0.7366666666666667\n"
     ]
    },
    {
     "data": {
      "text/plain": [
       "KNeighborsClassifier(n_neighbors=11)"
      ]
     },
     "execution_count": 81,
     "metadata": {},
     "output_type": "execute_result"
    },
    {
     "name": "stdout",
     "output_type": "stream",
     "text": [
      "Accuracy for k = 11 on the training subset is 0.7685714285714286\n",
      "Accuracy for k = 11 on the test set is 0.74\n"
     ]
    },
    {
     "data": {
      "text/plain": [
       "KNeighborsClassifier(n_neighbors=12)"
      ]
     },
     "execution_count": 81,
     "metadata": {},
     "output_type": "execute_result"
    },
    {
     "name": "stdout",
     "output_type": "stream",
     "text": [
      "Accuracy for k = 12 on the training subset is 0.7714285714285715\n",
      "Accuracy for k = 12 on the test set is 0.7366666666666667\n"
     ]
    },
    {
     "data": {
      "text/plain": [
       "KNeighborsClassifier(n_neighbors=13)"
      ]
     },
     "execution_count": 81,
     "metadata": {},
     "output_type": "execute_result"
    },
    {
     "name": "stdout",
     "output_type": "stream",
     "text": [
      "Accuracy for k = 13 on the training subset is 0.7785714285714286\n",
      "Accuracy for k = 13 on the test set is 0.7433333333333333\n"
     ]
    },
    {
     "data": {
      "text/plain": [
       "KNeighborsClassifier(n_neighbors=14)"
      ]
     },
     "execution_count": 81,
     "metadata": {},
     "output_type": "execute_result"
    },
    {
     "name": "stdout",
     "output_type": "stream",
     "text": [
      "Accuracy for k = 14 on the training subset is 0.78\n",
      "Accuracy for k = 14 on the test set is 0.74\n"
     ]
    }
   ],
   "source": [
    "x_train, x_test, y_train, y_test = train_test_split(data.iloc[:, 0:5], data['write_passOrFail'], \n",
    "                                                          test_size=0.3, train_size=0.7, stratify=data['write_passOrFail'])\n",
    "prediction_training = [0] * 15\n",
    "prediction_test = [0] * 15\n",
    "for k in range(1, 15):\n",
    "    knn = KNeighborsClassifier(n_neighbors=k)\n",
    "    knn.fit(x_train, y_train)\n",
    "    prediction_training[k] = knn.predict(x_train)\n",
    "    print(\"Accuracy for k = \" + str(k) + \" on the training subset is \" + str(accuracy_score(y_train, prediction_training[k])))\n",
    "    prediction_test[k] = knn.predict(x_test)\n",
    "    print(\"Accuracy for k = \" + str(k) + \" on the test set is \" + str(accuracy_score(y_test, prediction_test[k])))"
   ]
  },
  {
   "cell_type": "markdown",
   "metadata": {},
   "source": [
    "Running decision tree classifier on this dataset against whether each student's writing test score is passing or failing, reporting the accuracy on the training and test sets."
   ]
  },
  {
   "cell_type": "code",
   "execution_count": 82,
   "metadata": {},
   "outputs": [
    {
     "data": {
      "text/plain": [
       "DecisionTreeClassifier()"
      ]
     },
     "execution_count": 82,
     "metadata": {},
     "output_type": "execute_result"
    },
    {
     "name": "stdout",
     "output_type": "stream",
     "text": [
      "Accuracy of the decision tree model on the test set: 0.8028571428571428\n",
      "Accuracy of the decision tree model on the test set: 0.7233333333333334\n"
     ]
    }
   ],
   "source": [
    "tree = DecisionTreeClassifier()\n",
    "tree.fit(x_train, y_train)\n",
    "tree_predictions_train = tree.predict(x_train)\n",
    "print(\"Accuracy of the decision tree model on the test set: \" + str(accuracy_score(y_train, tree_predictions_train)))\n",
    "tree_predictions_test = tree.predict(x_test)\n",
    "print(\"Accuracy of the decision tree model on the test set: \" + str(accuracy_score(y_test, tree_predictions_test)))"
   ]
  },
  {
   "cell_type": "code",
   "execution_count": null,
   "metadata": {},
   "outputs": [],
   "source": []
  }
 ],
 "metadata": {
  "kernelspec": {
   "display_name": "Python 3",
   "language": "python",
   "name": "python3"
  },
  "language_info": {
   "codemirror_mode": {
    "name": "ipython",
    "version": 3
   },
   "file_extension": ".py",
   "mimetype": "text/x-python",
   "name": "python",
   "nbconvert_exporter": "python",
   "pygments_lexer": "ipython3",
   "version": "3.8.3"
  }
 },
 "nbformat": 4,
 "nbformat_minor": 4
}
